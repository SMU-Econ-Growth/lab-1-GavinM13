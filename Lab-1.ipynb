{
 "cells": [
  {
   "cell_type": "markdown",
   "id": "d390c4d2",
   "metadata": {
    "deletable": false,
    "editable": false,
    "nbgrader": {
     "cell_type": "markdown",
     "checksum": "71ab17f4e0767b63786e7c0e1ede01f5",
     "grade": false,
     "grade_id": "cell-adc550df5e1953ab",
     "locked": true,
     "schema_version": 3,
     "solution": false,
     "task": false
    }
   },
   "source": [
    "# Lab-1 - Some Basic Growth Facts\n",
    "\n",
    "## Purpose\n",
    "\n",
    "This introductory lab will serve two purposes.  \n",
    "\n",
    "1. It will acquaint you with some basic growth facts that you will seek to explain later in the semester.  \n",
    "2. It will allow you to apply your new knowledge of Python and Jupyter notebooks."
   ]
  },
  {
   "cell_type": "markdown",
   "id": "af32fe4f",
   "metadata": {
    "deletable": false,
    "editable": false,
    "nbgrader": {
     "cell_type": "markdown",
     "checksum": "c65ce8d8e57041d7fda4b128f7a884ea",
     "grade": false,
     "grade_id": "cell-3398afec566585a2",
     "locked": true,
     "schema_version": 3,
     "solution": false,
     "task": false
    }
   },
   "source": [
    "# Assignment\n",
    "\n",
    "In this lab, you will document cross-country differences in income and growth rates to help motivate the study of growth throughout the semester. The final product is a Jupyter notebook that provides and answer to all the questions. It must perform all analyses and create all the figures, and export the outputs requested. "
   ]
  },
  {
   "cell_type": "markdown",
   "id": "e3fbeaad",
   "metadata": {
    "deletable": false,
    "editable": false,
    "nbgrader": {
     "cell_type": "markdown",
     "checksum": "4ab1dcf08513406c59eb1b3ed59f3711",
     "grade": false,
     "grade_id": "cell-f6faf04305913f7f",
     "locked": true,
     "schema_version": 3,
     "solution": false,
     "task": false
    }
   },
   "source": [
    "# Setup -  Import packages and setup paths\n",
    "\n",
    "Create a `pathout` variable and `pathgraphs` for the name of the directories where you will save data and figures. If they do not exist, make sure to create them"
   ]
  },
  {
   "cell_type": "code",
   "execution_count": 127,
   "id": "6ec738c5",
   "metadata": {
    "deletable": false,
    "nbgrader": {
     "cell_type": "code",
     "checksum": "93742fd3f6261fd948df60e818c6b047",
     "grade": false,
     "grade_id": "cell-1f18136b34393c80",
     "locked": false,
     "schema_version": 3,
     "solution": true,
     "task": false
    }
   },
   "outputs": [],
   "source": [
    "# Let's import pandas, os, numpy, and some other basic packages we will use \n",
    "# YOUR CODE HERE\n",
    "import os\n",
    "import pandas as pd\n",
    "import numpy as np\n",
    "from pandas_datareader import data, wb\n",
    "import seaborn as sns\n",
    "import matplotlib.pyplot as plt\n",
    "\n",
    "# Create output directories\n",
    "# YOUR CODE HERE\n",
    "pathout = \"./data/\"\n",
    "pathgraphs = \"./graphs/\"\n",
    "if not os.path.exists(pathout):\n",
    "    os.mkdir(pathout)\n",
    "if not os.path.exists(pathgraphs):\n",
    "    os.mkdir(pathgraphs)"
   ]
  },
  {
   "cell_type": "code",
   "execution_count": 8,
   "id": "eafa6c3e",
   "metadata": {
    "deletable": false,
    "editable": false,
    "nbgrader": {
     "cell_type": "code",
     "checksum": "32baa1e2fe3d554f3418c1d1c283a270",
     "grade": true,
     "grade_id": "cell-b1aa21e6c45d7cea",
     "locked": true,
     "points": 2.5,
     "schema_version": 3,
     "solution": false,
     "task": false
    }
   },
   "outputs": [],
   "source": [
    "assert(os.path.exists(pathout)==True)\n",
    "assert(os.path.exists(pathgraphs)==True)"
   ]
  },
  {
   "cell_type": "markdown",
   "id": "02d3f93e",
   "metadata": {
    "deletable": false,
    "editable": false,
    "nbgrader": {
     "cell_type": "markdown",
     "checksum": "b07a37eeb721c894b26416eb77307279",
     "grade": false,
     "grade_id": "cell-594f8ab0fa950a26",
     "locked": true,
     "schema_version": 3,
     "solution": false,
     "task": false
    }
   },
   "source": [
    "# 1. Import Data\n",
    "\n",
    "Use the code from class to create income per capita data from the Penn World Tables and the World Development Indicators for the 1950-2021 period.\n",
    "\n",
    "Create a dataframe for each data source that contains the following variables:\n",
    "1. Country code: `country_code`\n",
    "2. Country name: `country_name`\n",
    "2. Year: `year`\n",
    "3. GDP per capita: `gdp_pc`\n",
    "\n",
    "For PWT use only `rgdpe` for GDP and name the dataframe `pwt`, for WDi use `'NY.GDP.PCAP.PP.KD'` for GDP per capita and name it `wdi`.\n",
    "\n",
    "Save the files with names `pwt100.dta` and `wdi.dta` in the `pathout` directory."
   ]
  },
  {
   "cell_type": "markdown",
   "id": "0a7368e5",
   "metadata": {
    "deletable": false,
    "editable": false,
    "nbgrader": {
     "cell_type": "markdown",
     "checksum": "7584eb625fd3dbb02e244fcab2b12e17",
     "grade": false,
     "grade_id": "cell-07d8959d03c2faab",
     "locked": true,
     "schema_version": 3,
     "solution": false,
     "task": false
    }
   },
   "source": [
    "## PWT-10"
   ]
  },
  {
   "cell_type": "code",
   "execution_count": 59,
   "id": "527c3cb4",
   "metadata": {
    "deletable": false,
    "nbgrader": {
     "cell_type": "code",
     "checksum": "5702a0c3e6a86d203292e2ba0976b368",
     "grade": false,
     "grade_id": "cell-106b8ca8b19737cb",
     "locked": false,
     "schema_version": 3,
     "solution": true,
     "task": false
    }
   },
   "outputs": [],
   "source": [
    "# Download PWT-10 data\n",
    "# YOUR CODE HERE\n",
    "pwt_version = \"100\"\n",
    "pwt_raw = pd.read_stata(\"https://www.rug.nl/ggdc/docs/pwt\" + pwt_version + \".dta\")\n",
    "\n",
    "# Generate GDPpc using rgdpe measure\n",
    "# YOUR CODE HERE\n",
    "pwt_raw[\"gdp_pc\"] = pwt_raw['rgdpe'] / pwt_raw['pop']\n",
    "\n",
    "# Select columns and rename them if necessary\n",
    "# YOUR CODE HERE\n",
    "pwt = pwt_raw[[\"countrycode\", \"country\", \"year\", \"gdp_pc\"]].copy()\n",
    "pwt.rename(columns={\"countrycode\": \"country_code\", \"country\": \"country_name\"}, inplace=True)\n",
    "\n",
    "# Save dataframe with 4 requested variables\n",
    "# YOUR CODE HERE\n",
    "pwt.to_csv(f\"{pathout}/pwt100.dta\", index=False)"
   ]
  },
  {
   "cell_type": "code",
   "execution_count": 60,
   "id": "d8d35603",
   "metadata": {
    "deletable": false,
    "editable": false,
    "nbgrader": {
     "cell_type": "code",
     "checksum": "d60157fb78df0b25a163392dc1d0d766",
     "grade": true,
     "grade_id": "cell-9be909839ff1dbde",
     "locked": true,
     "points": 5,
     "schema_version": 3,
     "solution": false,
     "task": false
    }
   },
   "outputs": [],
   "source": [
    "assert(pwt.shape==(12810,4))\n",
    "assert(os.path.exists(pathout + '/pwt100.dta')==True)"
   ]
  },
  {
   "cell_type": "markdown",
   "id": "4834eac7",
   "metadata": {
    "deletable": false,
    "editable": false,
    "nbgrader": {
     "cell_type": "markdown",
     "checksum": "d2a4ad6ed07af3da52f960221c756b82",
     "grade": false,
     "grade_id": "cell-9aa653e1076344a7",
     "locked": true,
     "schema_version": 3,
     "solution": false,
     "task": false
    }
   },
   "source": [
    "## WDI\n",
    "\n",
    "Get countries and their regions and basic info useful later, especially for plotting"
   ]
  },
  {
   "cell_type": "code",
   "execution_count": 61,
   "id": "75c0cc69",
   "metadata": {
    "deletable": false,
    "nbgrader": {
     "cell_type": "code",
     "checksum": "03957fbc843e6f17ec7e852687029c91",
     "grade": false,
     "grade_id": "cell-32c051ffcc13b92d",
     "locked": false,
     "schema_version": 3,
     "solution": true,
     "task": false
    }
   },
   "outputs": [],
   "source": [
    "# YOUR CODE HERE\n",
    "wbcountries = wb.get_countries()\n",
    "wbcountries = wbcountries.loc[wbcountries.region.isin(['Aggregates'])==False].reset_index(drop=True)\n",
    "wbcountries['name'] = wbcountries.name.str.strip()"
   ]
  },
  {
   "cell_type": "markdown",
   "id": "6a9a2b59",
   "metadata": {
    "deletable": false,
    "editable": false,
    "nbgrader": {
     "cell_type": "markdown",
     "checksum": "9408bc9762f145c7ce57f3e2819ab931",
     "grade": false,
     "grade_id": "cell-4d9fb3415d6a5f36",
     "locked": true,
     "schema_version": 3,
     "solution": false,
     "task": false
    }
   },
   "source": [
    "Download data"
   ]
  },
  {
   "cell_type": "code",
   "execution_count": 62,
   "id": "3b86b01d",
   "metadata": {
    "deletable": false,
    "nbgrader": {
     "cell_type": "code",
     "checksum": "983b32081cb107a56dbb4c619dc6ef02",
     "grade": false,
     "grade_id": "cell-a8f3321fbe617376",
     "locked": false,
     "schema_version": 3,
     "solution": true,
     "task": false
    }
   },
   "outputs": [
    {
     "name": "stderr",
     "output_type": "stream",
     "text": [
      "/Users/joel/opt/anaconda3/lib/python3.9/site-packages/pandas_datareader/wb.py:592: UserWarning: Non-standard ISO country codes: JG, XK\n",
      "  warnings.warn(\n"
     ]
    }
   ],
   "source": [
    "# YOUR CODE HERE\n",
    "wdi_indicators = [\"NY.GDP.PCAP.PP.KD\"]\n",
    "wdi_raw = wb.download(\n",
    "    indicator=wdi_indicators, country=wbcountries.iso2c.values, start=1950, end=2021\n",
    ")\n",
    "wdi_raw = wdi_raw.reset_index()\n",
    "wdi_raw[\"year\"] = wdi_raw.year.astype(int)\n",
    "wdi_raw[\"gdp_pc\"] = wdi_raw[\"NY.GDP.PCAP.PP.KD\"]"
   ]
  },
  {
   "cell_type": "markdown",
   "id": "96f88674",
   "metadata": {
    "deletable": false,
    "editable": false,
    "nbgrader": {
     "cell_type": "markdown",
     "checksum": "bddf9dc8f1b9915180d5c71d8e1333f7",
     "grade": false,
     "grade_id": "cell-fe13972a26d09652",
     "locked": true,
     "schema_version": 3,
     "solution": false,
     "task": false
    }
   },
   "source": [
    "Merge WDI datasets so we have codes and names together"
   ]
  },
  {
   "cell_type": "code",
   "execution_count": 63,
   "id": "59e05f76",
   "metadata": {
    "deletable": false,
    "nbgrader": {
     "cell_type": "code",
     "checksum": "5876f146a54747e64a9747a56d21bff6",
     "grade": false,
     "grade_id": "cell-87ee6c45fa2f04e5",
     "locked": false,
     "schema_version": 3,
     "solution": true,
     "task": false
    }
   },
   "outputs": [],
   "source": [
    "# YOUR CODE HERE\n",
    "wdi_raw = wbcountries.merge(wdi_raw, left_on='name', right_on='country')"
   ]
  },
  {
   "cell_type": "markdown",
   "id": "ab57ed04",
   "metadata": {
    "deletable": false,
    "editable": false,
    "nbgrader": {
     "cell_type": "markdown",
     "checksum": "8960715b623c2957e5da6021dca72abd",
     "grade": false,
     "grade_id": "cell-c46f839b79ae2d39",
     "locked": true,
     "schema_version": 3,
     "solution": false,
     "task": false
    }
   },
   "source": [
    "Select the 4 requested variables and save file"
   ]
  },
  {
   "cell_type": "code",
   "execution_count": 64,
   "id": "42482705",
   "metadata": {
    "deletable": false,
    "nbgrader": {
     "cell_type": "code",
     "checksum": "672d6dd8d91f5172496405b3e9df10ff",
     "grade": false,
     "grade_id": "cell-5993e1eaa1dea3d6",
     "locked": false,
     "schema_version": 3,
     "solution": true,
     "task": false
    }
   },
   "outputs": [],
   "source": [
    "# YOUR CODE HERE\n",
    "wdi = wdi_raw[[\"iso3c\", \"name\", \"year\", \"gdp_pc\"]].copy()\n",
    "wdi.rename(columns={\"iso3c\": \"country_code\", \"name\": \"country_name\"}, inplace=True)\n",
    "wdi.to_csv(f\"{pathout}/wdi.dta\", index=False)"
   ]
  },
  {
   "cell_type": "code",
   "execution_count": 65,
   "id": "66889b75",
   "metadata": {
    "deletable": false,
    "editable": false,
    "nbgrader": {
     "cell_type": "code",
     "checksum": "ad4249abe2b6bc198a9f87490957ed32",
     "grade": true,
     "grade_id": "cell-ed4011b449d77532",
     "locked": true,
     "points": 5,
     "schema_version": 3,
     "solution": false,
     "task": false
    }
   },
   "outputs": [],
   "source": [
    "assert(wdi.shape==(13454,4))\n",
    "assert(os.path.exists(pathout + '/wdi.dta')==True)\n",
    "assert((wdi.columns==['country_code', 'country_name', 'year', 'gdp_pc']).all())"
   ]
  },
  {
   "cell_type": "markdown",
   "id": "d73fac94",
   "metadata": {
    "deletable": false,
    "editable": false,
    "nbgrader": {
     "cell_type": "markdown",
     "checksum": "626c8db3d0d28370a4d29a4521610bf7",
     "grade": false,
     "grade_id": "cell-d2286060e154670a",
     "locked": true,
     "schema_version": 3,
     "solution": false,
     "task": false
    }
   },
   "source": [
    "# 2. Compare Income levels\n",
    "\n",
    "For each of these two datasets: \n",
    "\n",
    "* compute the average level of real per capita income in the earliest and in the latest year across all the countries in each dataset.  \n",
    "* Find the minimum per capita income in each of these two periods\n",
    "* Compute the maximum per capita income in each of these two periods\n",
    "* Compute the ratio of GDP per capita between richest to poorest in the two periods\n",
    "* Show how the distribution of income has changed over time by  plotting the distributions of log-income per capita in different years using kernel densities. Export each figure as a pdf file into ``pathgraphs`` with name ``dataset_gdppc_year.pdf``. To do this, write a function that takes as inputs the dataset and the year you want to plot.\n",
    "* Create a figure that compares the distribution of log-income per capita in both years for each dataset, i.e., it shows both jointly in one figure, and export it as a pdf and a png file into ``pathgraphs`` with names ``dataset_gdppc_minyear_maxyear.pdf`` and ``dataset_gdppc_minyear_maxyear.png``.\n",
    "\n",
    "You need to name the variables in a way that the example code runs. "
   ]
  },
  {
   "cell_type": "markdown",
   "id": "cfb5204f",
   "metadata": {
    "deletable": false,
    "editable": false,
    "nbgrader": {
     "cell_type": "markdown",
     "checksum": "b4cbbf0faae52e1073c80e8333c23093",
     "grade": false,
     "grade_id": "cell-f0869bc23175c2bc",
     "locked": true,
     "schema_version": 3,
     "solution": false,
     "task": false
    }
   },
   "source": [
    "Save the earliest year in PWT as `year_min_pwt`."
   ]
  },
  {
   "cell_type": "code",
   "execution_count": 67,
   "id": "fc7e34a3",
   "metadata": {
    "deletable": false,
    "nbgrader": {
     "cell_type": "code",
     "checksum": "c15c0b82090145e678aab3529bc569a0",
     "grade": false,
     "grade_id": "cell-afc2623d777d61a3",
     "locked": false,
     "schema_version": 3,
     "solution": true,
     "task": false
    }
   },
   "outputs": [],
   "source": [
    "# YOUR CODE HERE\n",
    "year_min_pwt = pwt[\"year\"].min()"
   ]
  },
  {
   "cell_type": "code",
   "execution_count": 68,
   "id": "1d28700c",
   "metadata": {
    "deletable": false,
    "editable": false,
    "nbgrader": {
     "cell_type": "code",
     "checksum": "3a45f92c26b96dd6b6a08cbeacc16087",
     "grade": true,
     "grade_id": "cell-f5ddd6c5017b35c7",
     "locked": true,
     "points": 1,
     "schema_version": 3,
     "solution": false,
     "task": false
    }
   },
   "outputs": [
    {
     "name": "stdout",
     "output_type": "stream",
     "text": [
      "Earliest year in PWT is  1950 \n",
      "\n"
     ]
    }
   ],
   "source": [
    "print(\"Earliest year in PWT is \", year_min_pwt, '\\n')"
   ]
  },
  {
   "cell_type": "markdown",
   "id": "c7e8b918",
   "metadata": {
    "deletable": false,
    "editable": false,
    "nbgrader": {
     "cell_type": "markdown",
     "checksum": "d295f0133b416a152c4cc0a752de3924",
     "grade": false,
     "grade_id": "cell-82b23494dbfe03fd",
     "locked": true,
     "schema_version": 3,
     "solution": false,
     "task": false
    }
   },
   "source": [
    "Earliest year in WDI as `year_min_wdi`"
   ]
  },
  {
   "cell_type": "code",
   "execution_count": 69,
   "id": "0f7e55c0",
   "metadata": {
    "deletable": false,
    "nbgrader": {
     "cell_type": "code",
     "checksum": "b3dd6bbec6575368a8fbcf9653537c09",
     "grade": false,
     "grade_id": "cell-4b1a8c46621f3029",
     "locked": false,
     "schema_version": 3,
     "solution": true,
     "task": false
    }
   },
   "outputs": [],
   "source": [
    "# YOUR CODE HERE\n",
    "year_min_wdi = wdi[\"year\"].min()"
   ]
  },
  {
   "cell_type": "code",
   "execution_count": 70,
   "id": "9eead454",
   "metadata": {
    "deletable": false,
    "editable": false,
    "nbgrader": {
     "cell_type": "code",
     "checksum": "a8b679112986cc66d5ea0f6c1468a987",
     "grade": true,
     "grade_id": "cell-e567b309b46cab0d",
     "locked": true,
     "points": 1,
     "schema_version": 3,
     "solution": false,
     "task": false
    }
   },
   "outputs": [
    {
     "name": "stdout",
     "output_type": "stream",
     "text": [
      "Earliest year in WDI is  1960 \n",
      "\n"
     ]
    }
   ],
   "source": [
    "print(\"Earliest year in WDI is \", year_min_wdi, '\\n')"
   ]
  },
  {
   "cell_type": "markdown",
   "id": "fe1c1fe6",
   "metadata": {
    "deletable": false,
    "editable": false,
    "nbgrader": {
     "cell_type": "markdown",
     "checksum": "2cf493a9f0b4dba40e343ca0bd6b4e5c",
     "grade": false,
     "grade_id": "cell-36c5d6d11cc1c8d4",
     "locked": true,
     "schema_version": 3,
     "solution": false,
     "task": false
    }
   },
   "source": [
    "Latest year in PWT as `year_max_pwt`"
   ]
  },
  {
   "cell_type": "code",
   "execution_count": 71,
   "id": "8f3b56dc",
   "metadata": {
    "deletable": false,
    "nbgrader": {
     "cell_type": "code",
     "checksum": "3067f23163a5152572d8b7d50fd00d5d",
     "grade": false,
     "grade_id": "cell-13da7bcc2b029d4b",
     "locked": false,
     "schema_version": 3,
     "solution": true,
     "task": false
    }
   },
   "outputs": [],
   "source": [
    "# YOUR CODE HERE\n",
    "year_max_pwt = pwt[\"year\"].max()"
   ]
  },
  {
   "cell_type": "code",
   "execution_count": 72,
   "id": "9ce4c84e",
   "metadata": {
    "deletable": false,
    "editable": false,
    "nbgrader": {
     "cell_type": "code",
     "checksum": "5dd3eae404ded0adde34bcab1bf997dd",
     "grade": true,
     "grade_id": "cell-c87de0e2fbfc491c",
     "locked": true,
     "points": 1,
     "schema_version": 3,
     "solution": false,
     "task": false
    }
   },
   "outputs": [
    {
     "name": "stdout",
     "output_type": "stream",
     "text": [
      "Latest year in PWT is  2019 \n",
      "\n"
     ]
    }
   ],
   "source": [
    "print(\"Latest year in PWT is \", year_max_pwt, '\\n')"
   ]
  },
  {
   "cell_type": "markdown",
   "id": "3ae168ec",
   "metadata": {
    "deletable": false,
    "editable": false,
    "nbgrader": {
     "cell_type": "markdown",
     "checksum": "efbebf45efb8c5a2810a8c68cf6b789a",
     "grade": false,
     "grade_id": "cell-7d48a8a7ebec8bcd",
     "locked": true,
     "schema_version": 3,
     "solution": false,
     "task": false
    }
   },
   "source": [
    "Latest year in WDI as `year_max_wdi`"
   ]
  },
  {
   "cell_type": "code",
   "execution_count": 73,
   "id": "b1bc7527",
   "metadata": {
    "deletable": false,
    "nbgrader": {
     "cell_type": "code",
     "checksum": "b088dd39b2f4d4ea814ed5205d52256a",
     "grade": false,
     "grade_id": "cell-0f3090c4ac03a294",
     "locked": false,
     "schema_version": 3,
     "solution": true,
     "task": false
    }
   },
   "outputs": [],
   "source": [
    "# YOUR CODE HERE\n",
    "year_max_wdi = wdi[\"year\"].max()"
   ]
  },
  {
   "cell_type": "code",
   "execution_count": 74,
   "id": "3d828e77",
   "metadata": {
    "deletable": false,
    "editable": false,
    "nbgrader": {
     "cell_type": "code",
     "checksum": "1ba9be58435693428bc501da93144374",
     "grade": true,
     "grade_id": "cell-ffbf9548f485bccd",
     "locked": true,
     "points": 1,
     "schema_version": 3,
     "solution": false,
     "task": false
    }
   },
   "outputs": [
    {
     "name": "stdout",
     "output_type": "stream",
     "text": [
      "Latest year in WDI is  2021 \n",
      "\n"
     ]
    }
   ],
   "source": [
    "print(\"Latest year in WDI is \", year_max_wdi, '\\n')"
   ]
  },
  {
   "cell_type": "markdown",
   "id": "b9700536",
   "metadata": {
    "deletable": false,
    "editable": false,
    "nbgrader": {
     "cell_type": "markdown",
     "checksum": "3ecaa38b1436ba29109be7e5d84a1a03",
     "grade": false,
     "grade_id": "cell-e4c53a4a25361338",
     "locked": true,
     "schema_version": 3,
     "solution": false,
     "task": false
    }
   },
   "source": [
    "Average GDP pc in earliest year in PWT as `mean_gdppc_pwt_early`"
   ]
  },
  {
   "cell_type": "code",
   "execution_count": 92,
   "id": "e2f6dccf",
   "metadata": {
    "deletable": false,
    "nbgrader": {
     "cell_type": "code",
     "checksum": "7a9c0295958beb44c00f4464077da9a8",
     "grade": false,
     "grade_id": "cell-5e01577356a7efd9",
     "locked": false,
     "schema_version": 3,
     "solution": true,
     "task": false
    }
   },
   "outputs": [],
   "source": [
    "# YOUR CODE HERE\n",
    "mean_gdppc_pwt_early = pwt[pwt[\"year\"]==year_min_pwt][\"gdp_pc\"].mean()"
   ]
  },
  {
   "cell_type": "code",
   "execution_count": 93,
   "id": "88ac1fd6",
   "metadata": {
    "deletable": false,
    "editable": false,
    "nbgrader": {
     "cell_type": "code",
     "checksum": "cad67e568201081ae83bec078e5fc7a1",
     "grade": true,
     "grade_id": "cell-2e11fc7a01cc7420",
     "locked": true,
     "points": 1,
     "schema_version": 3,
     "solution": false,
     "task": false
    }
   },
   "outputs": [
    {
     "name": "stdout",
     "output_type": "stream",
     "text": [
      "The average income per capita in the earliest year, i.e., 1950 in the PWT, is  5293.214614152203 \n",
      "\n"
     ]
    }
   ],
   "source": [
    "print(\"The average income per capita in the earliest year, i.e.,\", year_min_pwt, \"in the PWT, is \", mean_gdppc_pwt_early, '\\n')"
   ]
  },
  {
   "cell_type": "markdown",
   "id": "a8128986",
   "metadata": {
    "deletable": false,
    "editable": false,
    "nbgrader": {
     "cell_type": "markdown",
     "checksum": "be015e382cfff56baeb4ecb08175a6fd",
     "grade": false,
     "grade_id": "cell-293d8bc67c8aada8",
     "locked": true,
     "schema_version": 3,
     "solution": false,
     "task": false
    }
   },
   "source": [
    "Average GDP pc in earliest year in WDI as `mean_gdppc_wdi_early`"
   ]
  },
  {
   "cell_type": "code",
   "execution_count": 94,
   "id": "1d96313e",
   "metadata": {
    "deletable": false,
    "nbgrader": {
     "cell_type": "code",
     "checksum": "8a6d338bb7f9d402999f092fc63a1c91",
     "grade": false,
     "grade_id": "cell-a008aac4b29d6ed8",
     "locked": false,
     "schema_version": 3,
     "solution": true,
     "task": false
    }
   },
   "outputs": [],
   "source": [
    "# YOUR CODE HERE\n",
    "mean_gdppc_wdi_early = wdi[wdi[\"year\"]==year_min_wdi][\"gdp_pc\"].mean()"
   ]
  },
  {
   "cell_type": "code",
   "execution_count": 95,
   "id": "c0c0c123",
   "metadata": {
    "deletable": false,
    "editable": false,
    "nbgrader": {
     "cell_type": "code",
     "checksum": "0fec26d3dc150f0e4429ccc5de4fb340",
     "grade": true,
     "grade_id": "cell-62297975f3f5bf56",
     "locked": true,
     "points": 1,
     "schema_version": 3,
     "solution": false,
     "task": false
    }
   },
   "outputs": [
    {
     "name": "stdout",
     "output_type": "stream",
     "text": [
      "The average income per capita in the earliest year, i.e., 1960 in the WDI, is  nan \n",
      "\n"
     ]
    }
   ],
   "source": [
    "print(\"The average income per capita in the earliest year, i.e.,\", year_min_wdi, \"in the WDI, is \", mean_gdppc_wdi_early, '\\n')"
   ]
  },
  {
   "cell_type": "markdown",
   "id": "7902b1ef",
   "metadata": {
    "deletable": false,
    "editable": false,
    "nbgrader": {
     "cell_type": "markdown",
     "checksum": "93cb0adea9b8150f44a9ea348ac466a8",
     "grade": false,
     "grade_id": "cell-14dc94ecc2a86b35",
     "locked": true,
     "schema_version": 3,
     "solution": false,
     "task": false
    }
   },
   "source": [
    "Average GDP pc in latest year in PWT as `mean_gdppc_pwt_late`"
   ]
  },
  {
   "cell_type": "code",
   "execution_count": 96,
   "id": "b14188ae",
   "metadata": {
    "deletable": false,
    "nbgrader": {
     "cell_type": "code",
     "checksum": "81de1fca25f9b63b87ac27e52e5bb17e",
     "grade": false,
     "grade_id": "cell-793af247164dac85",
     "locked": false,
     "schema_version": 3,
     "solution": true,
     "task": false
    }
   },
   "outputs": [],
   "source": [
    "# YOUR CODE HERE\n",
    "mean_gdppc_pwt_late = pwt[pwt[\"year\"]==year_max_pwt][\"gdp_pc\"].mean()"
   ]
  },
  {
   "cell_type": "code",
   "execution_count": 97,
   "id": "c21865c0",
   "metadata": {
    "deletable": false,
    "editable": false,
    "nbgrader": {
     "cell_type": "code",
     "checksum": "158f8c870a8481e102696f823cc9935b",
     "grade": true,
     "grade_id": "cell-c271b86663463a1e",
     "locked": true,
     "points": 1,
     "schema_version": 3,
     "solution": false,
     "task": false
    }
   },
   "outputs": [
    {
     "name": "stdout",
     "output_type": "stream",
     "text": [
      "The average income per capita in the latest year, i.e., 2019 in the PWT, is  23037.876647704332 \n",
      "\n"
     ]
    }
   ],
   "source": [
    "print(\"The average income per capita in the latest year, i.e.,\", year_max_pwt, \"in the PWT, is \", mean_gdppc_pwt_late, '\\n')"
   ]
  },
  {
   "cell_type": "markdown",
   "id": "bd5f4fa5",
   "metadata": {
    "deletable": false,
    "editable": false,
    "nbgrader": {
     "cell_type": "markdown",
     "checksum": "b72181a902913bac70c444f49f048e7c",
     "grade": false,
     "grade_id": "cell-fda7f50dbac221c9",
     "locked": true,
     "schema_version": 3,
     "solution": false,
     "task": false
    }
   },
   "source": [
    "Average GDP pc in latest year in WDI as `mean_gdppc_wdi_late`"
   ]
  },
  {
   "cell_type": "code",
   "execution_count": 100,
   "id": "12a80c29",
   "metadata": {
    "deletable": false,
    "nbgrader": {
     "cell_type": "code",
     "checksum": "7cdcb61342a926807b774677ee12bddb",
     "grade": false,
     "grade_id": "cell-865d23fd2e756892",
     "locked": false,
     "schema_version": 3,
     "solution": true,
     "task": false
    }
   },
   "outputs": [],
   "source": [
    "# YOUR CODE HERE\n",
    "mean_gdppc_wdi_late = wdi[wdi[\"year\"]==year_max_wdi][\"gdp_pc\"].mean()"
   ]
  },
  {
   "cell_type": "code",
   "execution_count": 101,
   "id": "a05df703",
   "metadata": {
    "deletable": false,
    "editable": false,
    "nbgrader": {
     "cell_type": "code",
     "checksum": "47c02798f9682007fbd83c10a6146a87",
     "grade": true,
     "grade_id": "cell-23fce009562d37a6",
     "locked": true,
     "points": 1,
     "schema_version": 3,
     "solution": false,
     "task": false
    }
   },
   "outputs": [
    {
     "name": "stdout",
     "output_type": "stream",
     "text": [
      "The average income per capita in the latest year, i.e., 2021 in the WDI, is  20809.950184579895 \n",
      "\n"
     ]
    }
   ],
   "source": [
    "print(\"The average income per capita in the latest year, i.e.,\", year_max_wdi, \"in the WDI, is \", mean_gdppc_wdi_late, '\\n')"
   ]
  },
  {
   "cell_type": "markdown",
   "id": "94098fd7",
   "metadata": {
    "deletable": false,
    "editable": false,
    "nbgrader": {
     "cell_type": "markdown",
     "checksum": "f77b9b6233192fdfe6439f49ecb58b51",
     "grade": false,
     "grade_id": "cell-99822bee712f575c",
     "locked": true,
     "schema_version": 3,
     "solution": false,
     "task": false
    }
   },
   "source": [
    "Minimum GDP pc in earliest year in PWT as `min_gdppc_pwt_early`"
   ]
  },
  {
   "cell_type": "code",
   "execution_count": 102,
   "id": "687b77cc",
   "metadata": {
    "deletable": false,
    "nbgrader": {
     "cell_type": "code",
     "checksum": "527079762a8353983efe9762fd8a9650",
     "grade": false,
     "grade_id": "cell-0e4cd8962831097b",
     "locked": false,
     "schema_version": 3,
     "solution": true,
     "task": false
    }
   },
   "outputs": [],
   "source": [
    "# YOUR CODE HERE\n",
    "min_gdppc_pwt_early = pwt[pwt[\"year\"]==year_min_pwt][\"gdp_pc\"].min()"
   ]
  },
  {
   "cell_type": "code",
   "execution_count": 103,
   "id": "3afc48d6",
   "metadata": {
    "deletable": false,
    "editable": false,
    "nbgrader": {
     "cell_type": "code",
     "checksum": "2f85c98e404dfa85a027ff00b9814030",
     "grade": true,
     "grade_id": "cell-c203c74cc486219b",
     "locked": true,
     "points": 1,
     "schema_version": 3,
     "solution": false,
     "task": false
    }
   },
   "outputs": [
    {
     "name": "stdout",
     "output_type": "stream",
     "text": [
      "The minimum income per capita in the earliest year, i.e., 1950 in the PWT, is  404.2977198866964 \n",
      "\n"
     ]
    }
   ],
   "source": [
    "print(\"The minimum income per capita in the earliest year, i.e.,\", year_min_pwt, \"in the PWT, is \", min_gdppc_pwt_early, '\\n')"
   ]
  },
  {
   "cell_type": "markdown",
   "id": "cc8ec1f8",
   "metadata": {
    "deletable": false,
    "editable": false,
    "nbgrader": {
     "cell_type": "markdown",
     "checksum": "ca1803215ba19741ca0c8d4a4d7f4430",
     "grade": false,
     "grade_id": "cell-7f2fad48d5f8e97e",
     "locked": true,
     "schema_version": 3,
     "solution": false,
     "task": false
    }
   },
   "source": [
    "Minimum GDP pc in earliest year in WDI as `min_gdppc_wdi_early`"
   ]
  },
  {
   "cell_type": "code",
   "execution_count": 104,
   "id": "28f5eeca",
   "metadata": {
    "deletable": false,
    "nbgrader": {
     "cell_type": "code",
     "checksum": "1689c2ce0fd20d05c80c61c7cc378c67",
     "grade": false,
     "grade_id": "cell-c1ececdca468482c",
     "locked": false,
     "schema_version": 3,
     "solution": true,
     "task": false
    }
   },
   "outputs": [],
   "source": [
    "# YOUR CODE HERE\n",
    "min_gdppc_wdi_early = wdi[wdi[\"year\"]==year_min_wdi][\"gdp_pc\"].min()"
   ]
  },
  {
   "cell_type": "code",
   "execution_count": 105,
   "id": "5279749b",
   "metadata": {
    "deletable": false,
    "editable": false,
    "nbgrader": {
     "cell_type": "code",
     "checksum": "fc0e487a1487cbca5d4941321834b46d",
     "grade": true,
     "grade_id": "cell-818e66b92095b995",
     "locked": true,
     "points": 1,
     "schema_version": 3,
     "solution": false,
     "task": false
    }
   },
   "outputs": [
    {
     "name": "stdout",
     "output_type": "stream",
     "text": [
      "The minimum income per capita in the earliest year, i.e., 1960 in the WDI, is  nan \n",
      "\n"
     ]
    }
   ],
   "source": [
    "print(\"The minimum income per capita in the earliest year, i.e.,\", year_min_wdi, \"in the WDI, is \", min_gdppc_wdi_early, '\\n')"
   ]
  },
  {
   "cell_type": "markdown",
   "id": "e2f47a6b",
   "metadata": {
    "deletable": false,
    "editable": false,
    "nbgrader": {
     "cell_type": "markdown",
     "checksum": "8cc1f6c757c21dbc41ac3e46b9b08bd2",
     "grade": false,
     "grade_id": "cell-44ce5b929870a9cc",
     "locked": true,
     "schema_version": 3,
     "solution": false,
     "task": false
    }
   },
   "source": [
    "Minimum GDP pc in latest year in PWT as `min_gdppc_pwt_late`"
   ]
  },
  {
   "cell_type": "code",
   "execution_count": 106,
   "id": "80629d99",
   "metadata": {
    "deletable": false,
    "nbgrader": {
     "cell_type": "code",
     "checksum": "24aa8ee1bcb507858d68bdaccaf5fe50",
     "grade": false,
     "grade_id": "cell-ef74288b9b6dbe8c",
     "locked": false,
     "schema_version": 3,
     "solution": true,
     "task": false
    }
   },
   "outputs": [],
   "source": [
    "# YOUR CODE HERE\n",
    "min_gdppc_pwt_late = pwt[pwt[\"year\"]==year_max_pwt][\"gdp_pc\"].min()"
   ]
  },
  {
   "cell_type": "code",
   "execution_count": 107,
   "id": "049b53d0",
   "metadata": {
    "deletable": false,
    "editable": false,
    "nbgrader": {
     "cell_type": "code",
     "checksum": "6faffb2f01fec3fc48cbeca986c871dd",
     "grade": true,
     "grade_id": "cell-0cf9e07785a0b5a5",
     "locked": true,
     "points": 1,
     "schema_version": 3,
     "solution": false,
     "task": false
    }
   },
   "outputs": [
    {
     "name": "stdout",
     "output_type": "stream",
     "text": [
      "The minimum income per capita in the latest year, i.e., 2019 in the PWT, is  251.31907535789156 \n",
      "\n"
     ]
    }
   ],
   "source": [
    "print(\"The minimum income per capita in the latest year, i.e.,\", year_max_pwt, \"in the PWT, is \", min_gdppc_pwt_late, '\\n')"
   ]
  },
  {
   "cell_type": "markdown",
   "id": "e1d072ac",
   "metadata": {
    "deletable": false,
    "editable": false,
    "nbgrader": {
     "cell_type": "markdown",
     "checksum": "a288f6d9034ee2b52df714db58b368f5",
     "grade": false,
     "grade_id": "cell-1d1411ec17b9d081",
     "locked": true,
     "schema_version": 3,
     "solution": false,
     "task": false
    }
   },
   "source": [
    "Minimum GDP pc in latest year in WDI as `min_gdppc_wdi_late`"
   ]
  },
  {
   "cell_type": "code",
   "execution_count": 108,
   "id": "f22dd04e",
   "metadata": {
    "deletable": false,
    "nbgrader": {
     "cell_type": "code",
     "checksum": "52795cc81792a9feab534c99990d35a6",
     "grade": false,
     "grade_id": "cell-41938ef77dde4117",
     "locked": false,
     "schema_version": 3,
     "solution": true,
     "task": false
    }
   },
   "outputs": [],
   "source": [
    "# YOUR CODE HERE\n",
    "min_gdppc_wdi_late = wdi[wdi[\"year\"]==year_max_wdi][\"gdp_pc\"].min()"
   ]
  },
  {
   "cell_type": "code",
   "execution_count": 109,
   "id": "00bd0899",
   "metadata": {
    "deletable": false,
    "editable": false,
    "nbgrader": {
     "cell_type": "code",
     "checksum": "a966f7cd6649ef2db7734c2ca380fff7",
     "grade": true,
     "grade_id": "cell-b7fd8dc0bab0a6bb",
     "locked": true,
     "points": 1,
     "schema_version": 3,
     "solution": false,
     "task": false
    }
   },
   "outputs": [
    {
     "name": "stdout",
     "output_type": "stream",
     "text": [
      "The minimum income per capita in the latest year, i.e., 2021 in the WDI, is  722.046273490697 \n",
      "\n"
     ]
    }
   ],
   "source": [
    "print(\"The minimum income per capita in the latest year, i.e.,\", year_max_wdi, \"in the WDI, is \", min_gdppc_wdi_late, '\\n')"
   ]
  },
  {
   "cell_type": "markdown",
   "id": "8cb4eb32",
   "metadata": {
    "deletable": false,
    "editable": false,
    "nbgrader": {
     "cell_type": "markdown",
     "checksum": "f96b843188ea3ea47a2df8bbc3c80330",
     "grade": false,
     "grade_id": "cell-3c5a114e5a1cc526",
     "locked": true,
     "schema_version": 3,
     "solution": false,
     "task": false
    }
   },
   "source": [
    "Maximum GDP pc in earliest year in PWT as `max_gdppc_pwt_early`"
   ]
  },
  {
   "cell_type": "code",
   "execution_count": 112,
   "id": "af43cba1",
   "metadata": {
    "deletable": false,
    "nbgrader": {
     "cell_type": "code",
     "checksum": "0217de35d841406700956be24be7d09b",
     "grade": false,
     "grade_id": "cell-87fbacd7d7fad503",
     "locked": false,
     "schema_version": 3,
     "solution": true,
     "task": false
    }
   },
   "outputs": [],
   "source": [
    "# YOUR CODE HERE\n",
    "max_gdppc_pwt_early = pwt[pwt[\"year\"]==year_min_pwt][\"gdp_pc\"].max()"
   ]
  },
  {
   "cell_type": "code",
   "execution_count": 113,
   "id": "fbda9623",
   "metadata": {
    "deletable": false,
    "editable": false,
    "nbgrader": {
     "cell_type": "code",
     "checksum": "1ce437d27b48fd1f8d3264148c1740c6",
     "grade": true,
     "grade_id": "cell-d0d9f60799628d67",
     "locked": true,
     "points": 1,
     "schema_version": 3,
     "solution": false,
     "task": false
    }
   },
   "outputs": [
    {
     "name": "stdout",
     "output_type": "stream",
     "text": [
      "The maximum income per capita in the earliest year, i.e., 1950 in the PWT, is  15781.567100992643 \n",
      "\n"
     ]
    }
   ],
   "source": [
    "print(\"The maximum income per capita in the earliest year, i.e.,\", year_min_pwt, \"in the PWT, is \", max_gdppc_pwt_early, '\\n')"
   ]
  },
  {
   "cell_type": "markdown",
   "id": "6dfcc5a5",
   "metadata": {
    "deletable": false,
    "editable": false,
    "nbgrader": {
     "cell_type": "markdown",
     "checksum": "818e0dc8c8dd4893032dc31ad589caff",
     "grade": false,
     "grade_id": "cell-c6614f70d3b4e145",
     "locked": true,
     "schema_version": 3,
     "solution": false,
     "task": false
    }
   },
   "source": [
    "Maximum GDP pc in earliest year in WDI as `max_gdppc_wdi_early`"
   ]
  },
  {
   "cell_type": "code",
   "execution_count": 114,
   "id": "b7e11d82",
   "metadata": {
    "deletable": false,
    "nbgrader": {
     "cell_type": "code",
     "checksum": "84846468d98de98e3fbff140e82342c5",
     "grade": false,
     "grade_id": "cell-0c5a8189069a91bf",
     "locked": false,
     "schema_version": 3,
     "solution": true,
     "task": false
    }
   },
   "outputs": [],
   "source": [
    "# YOUR CODE HERE\n",
    "max_gdppc_wdi_early = wdi[wdi[\"year\"]==year_min_wdi][\"gdp_pc\"].max()"
   ]
  },
  {
   "cell_type": "code",
   "execution_count": 115,
   "id": "99408d9a",
   "metadata": {
    "deletable": false,
    "editable": false,
    "nbgrader": {
     "cell_type": "code",
     "checksum": "817c65290fdc08c57ced6724f7a58d91",
     "grade": true,
     "grade_id": "cell-ade2c564e718253e",
     "locked": true,
     "points": 1,
     "schema_version": 3,
     "solution": false,
     "task": false
    }
   },
   "outputs": [
    {
     "name": "stdout",
     "output_type": "stream",
     "text": [
      "The maximum income per capita in the earliest year, i.e., 1960 in the WDI, is  nan \n",
      "\n"
     ]
    }
   ],
   "source": [
    "print(\"The maximum income per capita in the earliest year, i.e.,\", year_min_wdi, \"in the WDI, is \", max_gdppc_wdi_early, '\\n')"
   ]
  },
  {
   "cell_type": "markdown",
   "id": "320bac99",
   "metadata": {
    "deletable": false,
    "editable": false,
    "nbgrader": {
     "cell_type": "markdown",
     "checksum": "231f240a290ffe2a3da3bc60ea901058",
     "grade": false,
     "grade_id": "cell-984a2e15ade2f7ef",
     "locked": true,
     "schema_version": 3,
     "solution": false,
     "task": false
    }
   },
   "source": [
    "Maximum GDP pc in latest year in PWT as `max_gdppc_pwt_late`"
   ]
  },
  {
   "cell_type": "code",
   "execution_count": 118,
   "id": "fe392ef2",
   "metadata": {
    "deletable": false,
    "nbgrader": {
     "cell_type": "code",
     "checksum": "a6b0bab2b4911eea158436c3e4b6f408",
     "grade": false,
     "grade_id": "cell-d3988950ccb52994",
     "locked": false,
     "schema_version": 3,
     "solution": true,
     "task": false
    }
   },
   "outputs": [],
   "source": [
    "# YOUR CODE HERE\n",
    "max_gdppc_pwt_late = pwt[pwt[\"year\"]==year_max_pwt][\"gdp_pc\"].max()"
   ]
  },
  {
   "cell_type": "code",
   "execution_count": 119,
   "id": "e7d367ac",
   "metadata": {
    "deletable": false,
    "editable": false,
    "nbgrader": {
     "cell_type": "code",
     "checksum": "58fe6dffb88105bc3fa226147ad43ddb",
     "grade": true,
     "grade_id": "cell-33296a0e0170e321",
     "locked": true,
     "points": 1,
     "schema_version": 3,
     "solution": false,
     "task": false
    }
   },
   "outputs": [
    {
     "name": "stdout",
     "output_type": "stream",
     "text": [
      "The maximum income per capita in the latest year, i.e., 2019 in the PWT, is  112941.45334229832 \n",
      "\n"
     ]
    }
   ],
   "source": [
    "print(\"The maximum income per capita in the latest year, i.e.,\", year_max_pwt, \"in the PWT, is \", max_gdppc_pwt_late, '\\n')"
   ]
  },
  {
   "cell_type": "markdown",
   "id": "0b890018",
   "metadata": {
    "deletable": false,
    "editable": false,
    "nbgrader": {
     "cell_type": "markdown",
     "checksum": "2466155d3ab6337425ebdccd06a06185",
     "grade": false,
     "grade_id": "cell-794b3b6db559a80f",
     "locked": true,
     "schema_version": 3,
     "solution": false,
     "task": false
    }
   },
   "source": [
    "Maximum GDP pc in latest year in WDI as `max_gdppc_wdi_late`"
   ]
  },
  {
   "cell_type": "code",
   "execution_count": 120,
   "id": "5d404872",
   "metadata": {
    "deletable": false,
    "nbgrader": {
     "cell_type": "code",
     "checksum": "1a85b6c7329c0d1311fd37654cddce17",
     "grade": false,
     "grade_id": "cell-73fa3e093dd67a94",
     "locked": false,
     "schema_version": 3,
     "solution": true,
     "task": false
    }
   },
   "outputs": [],
   "source": [
    "# YOUR CODE HERE\n",
    "max_gdppc_wdi_late = wdi[wdi[\"year\"]==year_max_wdi][\"gdp_pc\"].max()"
   ]
  },
  {
   "cell_type": "code",
   "execution_count": 121,
   "id": "7564b686",
   "metadata": {
    "deletable": false,
    "editable": false,
    "nbgrader": {
     "cell_type": "code",
     "checksum": "d6fecb2ffd2032f4bc167fde95ba873e",
     "grade": true,
     "grade_id": "cell-2246ac42b3c5d740",
     "locked": true,
     "points": 1,
     "schema_version": 3,
     "solution": false,
     "task": false
    }
   },
   "outputs": [
    {
     "name": "stdout",
     "output_type": "stream",
     "text": [
      "The maximum income per capita in the latest year, i.e., 2021 in the WDI, is  118680.043728826 \n",
      "\n"
     ]
    }
   ],
   "source": [
    "print(\"The maximum income per capita in the latest year, i.e.,\", year_max_wdi, \"in the WDI, is \", max_gdppc_wdi_late, '\\n')"
   ]
  },
  {
   "cell_type": "markdown",
   "id": "dbd33828",
   "metadata": {
    "deletable": false,
    "editable": false,
    "nbgrader": {
     "cell_type": "markdown",
     "checksum": "de60e2e49ee0abdc37a711aac4b07e23",
     "grade": false,
     "grade_id": "cell-348cf1dab208bc4a",
     "locked": true,
     "schema_version": 3,
     "solution": false,
     "task": false
    }
   },
   "source": [
    "Ratio of GDP pc in earliest year in PWT as `ratio_gdppc_pwt_early`"
   ]
  },
  {
   "cell_type": "code",
   "execution_count": null,
   "id": "8b1c6cd1",
   "metadata": {
    "deletable": false,
    "nbgrader": {
     "cell_type": "code",
     "checksum": "816966a2a8a6f2ce5cc4e239f711af91",
     "grade": false,
     "grade_id": "cell-05c62cd437c0eb72",
     "locked": false,
     "schema_version": 3,
     "solution": true,
     "task": false
    }
   },
   "outputs": [],
   "source": [
    "# YOUR CODE HERE\n",
    "raise NotImplementedError()"
   ]
  },
  {
   "cell_type": "code",
   "execution_count": null,
   "id": "8037ff73",
   "metadata": {
    "deletable": false,
    "editable": false,
    "nbgrader": {
     "cell_type": "code",
     "checksum": "debc826c369c76f0a87833a8cfc9b09c",
     "grade": true,
     "grade_id": "cell-fa9d76c13546ff92",
     "locked": true,
     "points": 1,
     "schema_version": 3,
     "solution": false,
     "task": false
    }
   },
   "outputs": [],
   "source": [
    "print(\"The ratio income per capita in the earliest year, i.e.,\", year_min_pwt, \"in the PWT, is \", ratio_gdppc_pwt_early, '\\n')"
   ]
  },
  {
   "cell_type": "markdown",
   "id": "82d1ec01",
   "metadata": {
    "deletable": false,
    "editable": false,
    "nbgrader": {
     "cell_type": "markdown",
     "checksum": "11060a1d5eb2323086c3129a1c7d70d9",
     "grade": false,
     "grade_id": "cell-a695cc525607965a",
     "locked": true,
     "schema_version": 3,
     "solution": false,
     "task": false
    }
   },
   "source": [
    "Ratio of GDP pc in earliest year in WDI as `ratio_gdppc_wdi_early`"
   ]
  },
  {
   "cell_type": "code",
   "execution_count": null,
   "id": "5b28f178",
   "metadata": {
    "deletable": false,
    "nbgrader": {
     "cell_type": "code",
     "checksum": "9dc070d2c05d0fb47f8cbd8017359b4d",
     "grade": false,
     "grade_id": "cell-bccf344ade5fdad4",
     "locked": false,
     "schema_version": 3,
     "solution": true,
     "task": false
    }
   },
   "outputs": [],
   "source": [
    "# YOUR CODE HERE\n",
    "raise NotImplementedError()"
   ]
  },
  {
   "cell_type": "code",
   "execution_count": null,
   "id": "1dee9819",
   "metadata": {
    "deletable": false,
    "editable": false,
    "nbgrader": {
     "cell_type": "code",
     "checksum": "0675fc0b6a6a18c2c337f849e949d606",
     "grade": true,
     "grade_id": "cell-c3d2fc191d17efeb",
     "locked": true,
     "points": 1,
     "schema_version": 3,
     "solution": false,
     "task": false
    }
   },
   "outputs": [],
   "source": [
    "print(\"The ratio income per capita in the earliest year, i.e.,\", year_min_wdi, \"in the WDI, is \", ratio_gdppc_wdi_early, '\\n')"
   ]
  },
  {
   "cell_type": "markdown",
   "id": "da99e887",
   "metadata": {
    "deletable": false,
    "editable": false,
    "nbgrader": {
     "cell_type": "markdown",
     "checksum": "17817b207bc3ee3f1ba435839820bb11",
     "grade": false,
     "grade_id": "cell-606c4ea4685fec6f",
     "locked": true,
     "schema_version": 3,
     "solution": false,
     "task": false
    }
   },
   "source": [
    "Ratio of GDP pc in latest year in PWT as `ratio_gdppc_pwt_late`"
   ]
  },
  {
   "cell_type": "code",
   "execution_count": null,
   "id": "ae1a58a0",
   "metadata": {
    "deletable": false,
    "nbgrader": {
     "cell_type": "code",
     "checksum": "1015e82a27ec9ad52e659126d0c8d8d5",
     "grade": false,
     "grade_id": "cell-ba9fa189cc5558c7",
     "locked": false,
     "schema_version": 3,
     "solution": true,
     "task": false
    }
   },
   "outputs": [],
   "source": [
    "# YOUR CODE HERE\n",
    "raise NotImplementedError()"
   ]
  },
  {
   "cell_type": "code",
   "execution_count": null,
   "id": "ec525121",
   "metadata": {
    "deletable": false,
    "editable": false,
    "nbgrader": {
     "cell_type": "code",
     "checksum": "b8ca08bc7b2afb61b381b0fca92d7fb5",
     "grade": true,
     "grade_id": "cell-4d114926f1ca9a5c",
     "locked": true,
     "points": 1,
     "schema_version": 3,
     "solution": false,
     "task": false
    }
   },
   "outputs": [],
   "source": [
    "print(\"The ratio income per capita in the latest year, i.e.,\", year_max_pwt, \"in the PWT, is \", ratio_gdppc_pwt_late, '\\n')"
   ]
  },
  {
   "cell_type": "markdown",
   "id": "53a145c7",
   "metadata": {
    "deletable": false,
    "editable": false,
    "nbgrader": {
     "cell_type": "markdown",
     "checksum": "127c60815c7dd0162f35c63dc2e47624",
     "grade": false,
     "grade_id": "cell-38714a6c269423db",
     "locked": true,
     "schema_version": 3,
     "solution": false,
     "task": false
    }
   },
   "source": [
    "Ratio of GDP pc in latest year in WDI as `ratio_gdppc_wdi_late`"
   ]
  },
  {
   "cell_type": "code",
   "execution_count": null,
   "id": "7880451a",
   "metadata": {
    "deletable": false,
    "nbgrader": {
     "cell_type": "code",
     "checksum": "a067d7784a59288b5193cade3289e383",
     "grade": false,
     "grade_id": "cell-0ad7da478f2c215c",
     "locked": false,
     "schema_version": 3,
     "solution": true,
     "task": false
    }
   },
   "outputs": [],
   "source": [
    "# YOUR CODE HERE\n",
    "raise NotImplementedError()"
   ]
  },
  {
   "cell_type": "code",
   "execution_count": null,
   "id": "1e24c59b",
   "metadata": {
    "deletable": false,
    "editable": false,
    "nbgrader": {
     "cell_type": "code",
     "checksum": "156ffa16a4fc4c94ad5eae816f490abd",
     "grade": true,
     "grade_id": "cell-4c4e2928a6ee7bb5",
     "locked": true,
     "points": 1,
     "schema_version": 3,
     "solution": false,
     "task": false
    }
   },
   "outputs": [],
   "source": [
    "print(\"The ratio income per capita in the latest year, i.e.,\", year_max_wdi, \"in the WDI, is \", ratio_gdppc_wdi_late, '\\n')"
   ]
  },
  {
   "cell_type": "code",
   "execution_count": 122,
   "id": "6544a7f6",
   "metadata": {
    "deletable": false,
    "editable": false,
    "nbgrader": {
     "cell_type": "code",
     "checksum": "2cc16d4a1a8d1f58f964b7e3e643d4d9",
     "grade": true,
     "grade_id": "cell-5a54b444406bec1b",
     "locked": true,
     "points": 5,
     "schema_version": 3,
     "solution": false,
     "task": false
    }
   },
   "outputs": [],
   "source": [
    "assert(year_min_pwt==1950)\n",
    "assert(year_max_pwt==2019)\n"
   ]
  },
  {
   "cell_type": "markdown",
   "id": "d95f9fd4",
   "metadata": {
    "deletable": false,
    "editable": false,
    "nbgrader": {
     "cell_type": "markdown",
     "checksum": "7052999539f6cc528fb36cb6a0c7ff7e",
     "grade": false,
     "grade_id": "cell-23ab41b0b19ef263",
     "locked": true,
     "schema_version": 3,
     "solution": false,
     "task": false
    }
   },
   "source": [
    "Let's now create the function to plot each distribution in each year and dataset"
   ]
  },
  {
   "cell_type": "code",
   "execution_count": 130,
   "id": "a5d1a37a",
   "metadata": {},
   "outputs": [
    {
     "data": {
      "text/html": [
       "<div>\n",
       "<style scoped>\n",
       "    .dataframe tbody tr th:only-of-type {\n",
       "        vertical-align: middle;\n",
       "    }\n",
       "\n",
       "    .dataframe tbody tr th {\n",
       "        vertical-align: top;\n",
       "    }\n",
       "\n",
       "    .dataframe thead th {\n",
       "        text-align: right;\n",
       "    }\n",
       "</style>\n",
       "<table border=\"1\" class=\"dataframe\">\n",
       "  <thead>\n",
       "    <tr style=\"text-align: right;\">\n",
       "      <th></th>\n",
       "      <th>country_code</th>\n",
       "      <th>country_name</th>\n",
       "      <th>year</th>\n",
       "      <th>gdp_pc</th>\n",
       "    </tr>\n",
       "  </thead>\n",
       "  <tbody>\n",
       "    <tr>\n",
       "      <th>0</th>\n",
       "      <td>ABW</td>\n",
       "      <td>Aruba</td>\n",
       "      <td>1950</td>\n",
       "      <td>NaN</td>\n",
       "    </tr>\n",
       "    <tr>\n",
       "      <th>1</th>\n",
       "      <td>AGO</td>\n",
       "      <td>Angola</td>\n",
       "      <td>1950</td>\n",
       "      <td>NaN</td>\n",
       "    </tr>\n",
       "    <tr>\n",
       "      <th>2</th>\n",
       "      <td>AIA</td>\n",
       "      <td>Anguilla</td>\n",
       "      <td>1950</td>\n",
       "      <td>NaN</td>\n",
       "    </tr>\n",
       "    <tr>\n",
       "      <th>3</th>\n",
       "      <td>ALB</td>\n",
       "      <td>Albania</td>\n",
       "      <td>1950</td>\n",
       "      <td>NaN</td>\n",
       "    </tr>\n",
       "    <tr>\n",
       "      <th>4</th>\n",
       "      <td>ARE</td>\n",
       "      <td>United Arab Emirates</td>\n",
       "      <td>1950</td>\n",
       "      <td>NaN</td>\n",
       "    </tr>\n",
       "    <tr>\n",
       "      <th>...</th>\n",
       "      <td>...</td>\n",
       "      <td>...</td>\n",
       "      <td>...</td>\n",
       "      <td>...</td>\n",
       "    </tr>\n",
       "    <tr>\n",
       "      <th>178</th>\n",
       "      <td>VNM</td>\n",
       "      <td>Viet Nam</td>\n",
       "      <td>1950</td>\n",
       "      <td>NaN</td>\n",
       "    </tr>\n",
       "    <tr>\n",
       "      <th>179</th>\n",
       "      <td>YEM</td>\n",
       "      <td>Yemen</td>\n",
       "      <td>1950</td>\n",
       "      <td>NaN</td>\n",
       "    </tr>\n",
       "    <tr>\n",
       "      <th>180</th>\n",
       "      <td>ZAF</td>\n",
       "      <td>South Africa</td>\n",
       "      <td>1950</td>\n",
       "      <td>5899.487188</td>\n",
       "    </tr>\n",
       "    <tr>\n",
       "      <th>181</th>\n",
       "      <td>ZMB</td>\n",
       "      <td>Zambia</td>\n",
       "      <td>1950</td>\n",
       "      <td>NaN</td>\n",
       "    </tr>\n",
       "    <tr>\n",
       "      <th>182</th>\n",
       "      <td>ZWE</td>\n",
       "      <td>Zimbabwe</td>\n",
       "      <td>1950</td>\n",
       "      <td>NaN</td>\n",
       "    </tr>\n",
       "  </tbody>\n",
       "</table>\n",
       "<p>183 rows × 4 columns</p>\n",
       "</div>"
      ],
      "text/plain": [
       "    country_code          country_name  year       gdp_pc\n",
       "0            ABW                 Aruba  1950          NaN\n",
       "1            AGO                Angola  1950          NaN\n",
       "2            AIA              Anguilla  1950          NaN\n",
       "3            ALB               Albania  1950          NaN\n",
       "4            ARE  United Arab Emirates  1950          NaN\n",
       "..           ...                   ...   ...          ...\n",
       "178          VNM              Viet Nam  1950          NaN\n",
       "179          YEM                 Yemen  1950          NaN\n",
       "180          ZAF          South Africa  1950  5899.487188\n",
       "181          ZMB                Zambia  1950          NaN\n",
       "182          ZWE              Zimbabwe  1950          NaN\n",
       "\n",
       "[183 rows x 4 columns]"
      ]
     },
     "execution_count": 130,
     "metadata": {},
     "output_type": "execute_result"
    }
   ],
   "source": [
    "dataset = \"pwt\"\n",
    "myyear = 1950\n",
    "df = eval(dataset + '.loc[' + dataset +'.year == myyear].copy().reset_index(drop=True)')"
   ]
  },
  {
   "cell_type": "code",
   "execution_count": 150,
   "id": "883d7126",
   "metadata": {
    "deletable": false,
    "nbgrader": {
     "cell_type": "code",
     "checksum": "0dae47a6c7a22ba7a1adec365e9f4ede",
     "grade": false,
     "grade_id": "cell-aa7cb53e6afe319f",
     "locked": false,
     "schema_version": 3,
     "solution": true,
     "task": false
    }
   },
   "outputs": [],
   "source": [
    "sns.set(rc={\"figure.figsize\": (11.7, 8.27)})\n",
    "# sns.reset_orig()\n",
    "sns.set_context(\"talk\")\n",
    "\n",
    "\n",
    "def my_kde_plots(dataset=\"pwt\", myyear=year_min_pwt):\n",
    "    \"\"\"\n",
    "    This function plots the KDE-plot of log income per capita, where\n",
    "    \n",
    "    dataset: is either pwt or wdi (one of the two datasets you created above)\n",
    "    myyear: is one of the year variables you created above, e.g., year_min_pwt, year_min_wdi\n",
    "    \"\"\"\n",
    "    # YOUR CODE HERE\n",
    "\n",
    "    df = eval(\n",
    "        dataset + \".loc[\" + dataset + \".year == myyear].copy().reset_index(drop=True)\"\n",
    "    )\n",
    "    df[\"log_gdp_pc\"] = np.log(df[\"gdp_pc\"])\n",
    "\n",
    "    sns.kdeplot(df[\"log_gdp_pc\"], shade=True, label=str(myyear), linewidth=2)\n",
    "\n",
    "    plt.xlabel(\"log GDP PC\")\n",
    "    plt.ylabel(\"Density of Countries\")\n",
    "    plt.legend()\n",
    "    plt.savefig(f\"{pathgraphs}/{dataset}_gdppc_{myyear}.pdf\", dpi=300, bbox_inches=\"tight\")\n",
    "    plt.draw()"
   ]
  },
  {
   "cell_type": "code",
   "execution_count": 151,
   "id": "7ae83c50",
   "metadata": {
    "deletable": false,
    "editable": false,
    "nbgrader": {
     "cell_type": "code",
     "checksum": "d47f6de9fd265ba05796138bcb84c4dc",
     "grade": true,
     "grade_id": "cell-6e064c037304d5a8",
     "locked": true,
     "points": 5,
     "schema_version": 3,
     "solution": false,
     "task": false
    }
   },
   "outputs": [
    {
     "data": {
      "image/png": "[encoded data removed]",
      "text/plain": [
       "<Figure size 842.4x595.44 with 1 Axes>"
      ]
     },
     "metadata": {},
     "output_type": "display_data"
    }
   ],
   "source": [
    "# KDE plot for PWT in earliest period\n",
    "my_kde_plots()"
   ]
  },
  {
   "cell_type": "code",
   "execution_count": 152,
   "id": "e5d10f43",
   "metadata": {
    "deletable": false,
    "editable": false,
    "nbgrader": {
     "cell_type": "code",
     "checksum": "3b3a48a098319da59d17c2779ae1e9ff",
     "grade": true,
     "grade_id": "cell-daf7e60815921e4b",
     "locked": true,
     "points": 5,
     "schema_version": 3,
     "solution": false,
     "task": false
    }
   },
   "outputs": [
    {
     "data": {
      "image/png": "[encoded data removed]",
      "text/plain": [
       "<Figure size 842.4x595.44 with 1 Axes>"
      ]
     },
     "metadata": {},
     "output_type": "display_data"
    }
   ],
   "source": [
    "# KDE plot for PWT in latest period\n",
    "my_kde_plots(myyear=year_max_pwt)"
   ]
  },
  {
   "cell_type": "code",
   "execution_count": 153,
   "id": "a213dc60",
   "metadata": {
    "deletable": false,
    "editable": false,
    "nbgrader": {
     "cell_type": "code",
     "checksum": "6b563329ba7ff1c538b3cc8e994b3791",
     "grade": true,
     "grade_id": "cell-2244a0c19379d0a7",
     "locked": true,
     "points": 5,
     "schema_version": 3,
     "solution": false,
     "task": false
    }
   },
   "outputs": [
    {
     "name": "stderr",
     "output_type": "stream",
     "text": [
      "No artists with labels found to put in legend.  Note that artists whose label start with an underscore are ignored when legend() is called with no argument.\n"
     ]
    },
    {
     "data": {
      "image/png": "[encoded data removed]",
      "text/plain": [
       "<Figure size 842.4x595.44 with 1 Axes>"
      ]
     },
     "metadata": {},
     "output_type": "display_data"
    }
   ],
   "source": [
    "# KDE plot for WDI in earliest period\n",
    "my_kde_plots(dataset='wdi', myyear=year_min_wdi)"
   ]
  },
  {
   "cell_type": "code",
   "execution_count": 154,
   "id": "41514625",
   "metadata": {
    "deletable": false,
    "editable": false,
    "nbgrader": {
     "cell_type": "code",
     "checksum": "3a2d34ebda5c32990e21775b319a2285",
     "grade": true,
     "grade_id": "cell-bf4af7a308022573",
     "locked": true,
     "points": 5,
     "schema_version": 3,
     "solution": false,
     "task": false
    }
   },
   "outputs": [
    {
     "data": {
      "image/png": "[encoded data removed]",
      "text/plain": [
       "<Figure size 842.4x595.44 with 1 Axes>"
      ]
     },
     "metadata": {},
     "output_type": "display_data"
    }
   ],
   "source": [
    "# KDE plot for PWT in latest period\n",
    "my_kde_plots(dataset='wdi', myyear=year_max_wdi)"
   ]
  },
  {
   "cell_type": "code",
   "execution_count": 155,
   "id": "2158ad55",
   "metadata": {
    "deletable": false,
    "editable": false,
    "nbgrader": {
     "cell_type": "code",
     "checksum": "208cbd938e82c84f75bd2c26f7033391",
     "grade": true,
     "grade_id": "cell-9e89765762b26403",
     "locked": true,
     "points": 2.5,
     "schema_version": 3,
     "solution": false,
     "task": false
    }
   },
   "outputs": [],
   "source": [
    "assert(os.path.exists(pathgraphs + '/pwt_gdppc_' + str(year_min_pwt) + '.pdf')==True)\n",
    "assert(os.path.exists(pathgraphs + '/wdi_gdppc_' + str(year_min_wdi) + '.pdf')==True)"
   ]
  },
  {
   "cell_type": "markdown",
   "id": "0e6d4660",
   "metadata": {
    "deletable": false,
    "editable": false,
    "nbgrader": {
     "cell_type": "markdown",
     "checksum": "3c6682d794baa75ee6abdaef74cd55bc",
     "grade": false,
     "grade_id": "cell-45a3709fe5daf4a9",
     "locked": true,
     "schema_version": 3,
     "solution": false,
     "task": false
    }
   },
   "source": [
    "Let's write a function that plots for each dataset and pair of years the distributions in that year and exports it to both png and pdf."
   ]
  },
  {
   "cell_type": "code",
   "execution_count": 158,
   "id": "e74d319d",
   "metadata": {
    "deletable": false,
    "nbgrader": {
     "cell_type": "code",
     "checksum": "80ab00f8f4fea0107dae56a78d06a1bf",
     "grade": false,
     "grade_id": "cell-20032e775009fa97",
     "locked": false,
     "schema_version": 3,
     "solution": true,
     "task": false
    }
   },
   "outputs": [],
   "source": [
    "sns.set(rc={'figure.figsize':(11.7,8.27)})\n",
    "#sns.reset_orig()\n",
    "sns.set_context(\"talk\")\n",
    "\n",
    "def my_kde_plots_joint(dataset='pwt', myyears=[year_min_pwt, year_max_pwt]):\n",
    "    '''\n",
    "    This function plots the KDE-plot of log income per capita in two years, where\n",
    "    \n",
    "    dataset: is either pwt or wdi (one of the two datasets you created above)\n",
    "    myyears: is a list of years\n",
    "    '''\n",
    "    # YOUR CODE HERE\n",
    "    df = eval(dataset + '.loc[' + dataset +'.year.isin(myyears)].copy().reset_index(drop=True)')\n",
    "    df[\"log_gdp_pc\"] = np.log(df[\"gdp_pc\"])\n",
    "    mycolors = sns.color_palette(\"Paired\",n_colors=len(myyears))\n",
    "    \n",
    "    fig, ax = plt.subplots()\n",
    "    for t in range(len(myyears)):\n",
    "        sns.kdeplot(df.loc[df.year==myyears[t], \"log_gdp_pc\"], ax=ax, shade=True, label=str(myyears[t]), linewidth=2, color=mycolors[t])\n",
    "    ax.set_xlabel(\"log GDP PC\")\n",
    "    ax.set_ylabel('Density of Countries')\n",
    "    ax.legend()\n",
    "    plt.savefig(f\"{pathgraphs}/{dataset}_gdppc_{myyears[0]}_{myyears[1]}.pdf\", dpi=300, bbox_inches=\"tight\")\n",
    "    plt.draw()"
   ]
  },
  {
   "cell_type": "code",
   "execution_count": 159,
   "id": "fa141431",
   "metadata": {
    "deletable": false,
    "editable": false,
    "nbgrader": {
     "cell_type": "code",
     "checksum": "a57d3498bd2545ac781bf6fc11acb0c1",
     "grade": true,
     "grade_id": "cell-f93b853f045b331d",
     "locked": true,
     "points": 2.5,
     "schema_version": 3,
     "solution": false,
     "task": false
    }
   },
   "outputs": [
    {
     "data": {
      "image/png": "[encoded data removed]",
      "text/plain": [
       "<Figure size 842.4x595.44 with 1 Axes>"
      ]
     },
     "metadata": {},
     "output_type": "display_data"
    }
   ],
   "source": [
    "# Plot PWT\n",
    "my_kde_plots_joint()"
   ]
  },
  {
   "cell_type": "code",
   "execution_count": 160,
   "id": "a3a63ea5",
   "metadata": {
    "deletable": false,
    "editable": false,
    "nbgrader": {
     "cell_type": "code",
     "checksum": "5906d9f2477a6a29050f40a2efb28de8",
     "grade": true,
     "grade_id": "cell-d7ceffb95f6560bf",
     "locked": true,
     "points": 2.5,
     "schema_version": 3,
     "solution": false,
     "task": false
    }
   },
   "outputs": [
    {
     "data": {
      "image/png": "[encoded data removed]",
      "text/plain": [
       "<Figure size 842.4x595.44 with 1 Axes>"
      ]
     },
     "metadata": {},
     "output_type": "display_data"
    }
   ],
   "source": [
    "# Plot WDI\n",
    "my_kde_plots_joint(dataset='wdi', myyears=[year_min_wdi, year_max_wdi])"
   ]
  },
  {
   "cell_type": "code",
   "execution_count": 161,
   "id": "f1b8d905",
   "metadata": {
    "deletable": false,
    "editable": false,
    "nbgrader": {
     "cell_type": "code",
     "checksum": "c27a475454e40999fec5f668799a5c66",
     "grade": true,
     "grade_id": "cell-ef075b38ad1899b7",
     "locked": true,
     "points": 2.5,
     "schema_version": 3,
     "solution": false,
     "task": false
    }
   },
   "outputs": [],
   "source": [
    "assert(os.path.exists(pathgraphs + 'pwt_gdppc_' + str(year_min_pwt) + '_' + str(year_max_pwt) + '.pdf')==True)\n",
    "assert(os.path.exists(pathgraphs + 'wdi_gdppc_' + str(year_min_wdi) + '_' + str(year_max_wdi) + '.pdf')==True)"
   ]
  },
  {
   "cell_type": "markdown",
   "id": "6a0ad63c",
   "metadata": {
    "deletable": false,
    "editable": false,
    "nbgrader": {
     "cell_type": "markdown",
     "checksum": "8429d74ac268d7a485350a39051977f5",
     "grade": false,
     "grade_id": "cell-b3846c9121df28b3",
     "locked": true,
     "schema_version": 3,
     "solution": false,
     "task": false
    }
   },
   "source": [
    "# 3. Growth rates\n",
    "\n",
    "Compute the growth rate of real per capita income over the time period between the first year and the last year as\n",
    "\n",
    "$$\n",
    "growth = \\log(gdp\\_pc_{last}) - \\log(gdp\\_pc_{first})\n",
    "$$\n",
    "\n",
    "Save the results in a new dataframe called `growth_dataset`.  What is the average growth rate for all the countries in your data? Save it as `mean_growth_dataset`. What is the minimum growth rate? Save it as `min_growth_dataset`. What is the maximum growth rate? Save it as `max_growth_dataset`."
   ]
  },
  {
   "cell_type": "markdown",
   "id": "c2b07282",
   "metadata": {
    "deletable": false,
    "editable": false,
    "nbgrader": {
     "cell_type": "markdown",
     "checksum": "e9c4b246866ec2bf182bb8d23311d015",
     "grade": false,
     "grade_id": "cell-fca5714b7fabad7f",
     "locked": true,
     "schema_version": 3,
     "solution": false,
     "task": false
    }
   },
   "source": [
    "Compute growth rates"
   ]
  },
  {
   "cell_type": "code",
   "execution_count": 180,
   "id": "eb5f49e7",
   "metadata": {
    "deletable": false,
    "nbgrader": {
     "cell_type": "code",
     "checksum": "84624111889292251580bb4a3249b547",
     "grade": false,
     "grade_id": "cell-d1c97f59295e8c0b",
     "locked": false,
     "schema_version": 3,
     "solution": true,
     "task": false
    }
   },
   "outputs": [
    {
     "data": {
      "text/plain": [
       "nan"
      ]
     },
     "execution_count": 180,
     "metadata": {},
     "output_type": "execute_result"
    }
   ],
   "source": [
    "# YOUR CODE HERE\n",
    "# growth_pwt = np.log(pwt[pwt[\"year\"]==year_max_pwt][\"gdp_pc\"]) - np.log(pwt[pwt[\"year\"]==year_min_pwt][\"gdp_pc\"])\n",
    "tmp_df = pwt.copy()\n",
    "tmp_df[\"log_gdp_pc\"] = np.log(pwt[\"gdp_pc\"])\n",
    "(tmp_df[tmp_df[\"year\"] == year_max_pwt][\"log_gdp_pc\"] - tmp_df[tmp_df[\"year\"] == year_min_pwt][\"log_gdp_pc\"]).mean()\n",
    "# tmp_df[tmp_df[\"year\"] == year_max_pwt][\"log_gdp_pc\"].to_numpy() - tmp_df[tmp_df[\"year\"] == year_min_pwt][\"log_gdp_pc\"].to_numpy()"
   ]
  },
  {
   "cell_type": "markdown",
   "id": "5c1a34fb",
   "metadata": {
    "deletable": false,
    "editable": false,
    "nbgrader": {
     "cell_type": "markdown",
     "checksum": "3f3cca49f41d8a5eac42fc6ca5c9b292",
     "grade": false,
     "grade_id": "cell-292a42abd4207035",
     "locked": true,
     "schema_version": 3,
     "solution": false,
     "task": false
    }
   },
   "source": [
    "Compute Average growth rate"
   ]
  },
  {
   "cell_type": "code",
   "execution_count": null,
   "id": "f3e8afff",
   "metadata": {
    "deletable": false,
    "nbgrader": {
     "cell_type": "code",
     "checksum": "acaadc5f751f183518c89550840e2eb5",
     "grade": false,
     "grade_id": "cell-549f20d20cf21923",
     "locked": false,
     "schema_version": 3,
     "solution": true,
     "task": false
    }
   },
   "outputs": [],
   "source": [
    "# YOUR CODE HERE\n",
    "raise NotImplementedError()"
   ]
  },
  {
   "cell_type": "code",
   "execution_count": null,
   "id": "7ed953c0",
   "metadata": {
    "deletable": false,
    "editable": false,
    "nbgrader": {
     "cell_type": "code",
     "checksum": "82ad49ed581b93dec8b652372f04808d",
     "grade": true,
     "grade_id": "cell-f14f47186f4c69f6",
     "locked": true,
     "points": 2.5,
     "schema_version": 3,
     "solution": false,
     "task": false
    }
   },
   "outputs": [],
   "source": [
    "print('Average growth rate between', year_min_pwt, 'and', year_max_pwt, 'according to PWT was {0:.2%}'.format(mean_growth_pwt))\n",
    "print('Average growth rate between', year_min_wdi, 'and', year_max_wdi, 'according to WDI was {0:.2%}'.format(mean_growth_wdi))\n"
   ]
  },
  {
   "cell_type": "markdown",
   "id": "6694968c",
   "metadata": {
    "deletable": false,
    "editable": false,
    "nbgrader": {
     "cell_type": "markdown",
     "checksum": "297beef275bfb46a0df5e1737e9f3fe6",
     "grade": false,
     "grade_id": "cell-df198779267b5517",
     "locked": true,
     "schema_version": 3,
     "solution": false,
     "task": false
    }
   },
   "source": [
    "Compute minimum growth rate"
   ]
  },
  {
   "cell_type": "code",
   "execution_count": null,
   "id": "617c34ad",
   "metadata": {
    "deletable": false,
    "nbgrader": {
     "cell_type": "code",
     "checksum": "4083d1b582b45409c06858405f5580b9",
     "grade": false,
     "grade_id": "cell-d56ff2ee06d45c3e",
     "locked": false,
     "schema_version": 3,
     "solution": true,
     "task": false
    }
   },
   "outputs": [],
   "source": [
    "# YOUR CODE HERE\n",
    "raise NotImplementedError()"
   ]
  },
  {
   "cell_type": "code",
   "execution_count": null,
   "id": "e8def360",
   "metadata": {
    "deletable": false,
    "nbgrader": {
     "cell_type": "code",
     "checksum": "b0667b7fa59981510f957728801dcbe1",
     "grade": false,
     "grade_id": "cell-55f6b4e018482c00",
     "locked": false,
     "schema_version": 3,
     "solution": true,
     "task": false
    }
   },
   "outputs": [],
   "source": [
    "# YOUR CODE HERE\n",
    "raise NotImplementedError()"
   ]
  },
  {
   "cell_type": "markdown",
   "id": "fae3ff9e",
   "metadata": {
    "deletable": false,
    "editable": false,
    "nbgrader": {
     "cell_type": "markdown",
     "checksum": "115e8e86f20c91fe9bbff7902406e38a",
     "grade": false,
     "grade_id": "cell-6dffd630c82e89b1",
     "locked": true,
     "schema_version": 3,
     "solution": false,
     "task": false
    }
   },
   "source": [
    "Compute maximum growth rate"
   ]
  },
  {
   "cell_type": "code",
   "execution_count": null,
   "id": "8a3eb199",
   "metadata": {
    "deletable": false,
    "nbgrader": {
     "cell_type": "code",
     "checksum": "3d46607d7a0c1962945e854bde0181f5",
     "grade": false,
     "grade_id": "cell-d5b1c547fe35cb21",
     "locked": false,
     "schema_version": 3,
     "solution": true,
     "task": false
    }
   },
   "outputs": [],
   "source": [
    "# YOUR CODE HERE\n",
    "raise NotImplementedError()"
   ]
  },
  {
   "cell_type": "code",
   "execution_count": null,
   "id": "b56e5256",
   "metadata": {
    "deletable": false,
    "editable": false,
    "nbgrader": {
     "cell_type": "code",
     "checksum": "ee37b0a674a6e7e56fff8133a558af98",
     "grade": true,
     "grade_id": "cell-0f079ace95a009a2",
     "locked": true,
     "points": 2.5,
     "schema_version": 3,
     "solution": false,
     "task": false
    }
   },
   "outputs": [],
   "source": [
    "print('Maximum growth rate between', year_min_pwt, 'and', year_max_pwt, 'according to PWT was {0:.2%}'.format(max_growth_pwt))\n",
    "print('Maximum growth rate between', year_min_wdi, 'and', year_max_wdi, 'according to WDI was {0:.2%}'.format(max_growth_wdi))\n"
   ]
  },
  {
   "cell_type": "markdown",
   "id": "864f419f",
   "metadata": {
    "deletable": false,
    "editable": false,
    "nbgrader": {
     "cell_type": "markdown",
     "checksum": "48593a488c83a2e6aa9868ea242e2b06",
     "grade": false,
     "grade_id": "cell-a71e69803c030f4b",
     "locked": true,
     "schema_version": 3,
     "solution": false,
     "task": false
    }
   },
   "source": [
    "# 4. Growth rates by WB region\n",
    "\n",
    "Consider the regions defined by the World Bank: East Asia & Pacific, Europe & Central Asia, Latin America & Caribbean, Middle East & North Africa, North America, South Asia, and Sub-Saharan Africa.  Compute the minimum, maximum, and mean growth rates of income per capita for countries in each of these groups in the earliest and latest year in each dataset.  What patterns can you identify in the growth of income and in the dispersion of income in these regions?"
   ]
  },
  {
   "cell_type": "markdown",
   "id": "3d49ddbc",
   "metadata": {
    "deletable": false,
    "editable": false,
    "nbgrader": {
     "cell_type": "markdown",
     "checksum": "4770a409d96f9200e76eacdc9f825080",
     "grade": false,
     "grade_id": "cell-021925eda6f16931",
     "locked": true,
     "schema_version": 3,
     "solution": false,
     "task": false
    }
   },
   "source": [
    "Start by merging the `wbcountries` dataframe with the others to get the regional variable. Create new dataframes `growth_dataset_regions`. \n",
    "\n",
    "**Note:** There are 2 countries in PWT that do not appear in the `wbcountries` dataframe. \n",
    "They both belong to Latin America & Caribbean (codes: `AIA`, `MSR`). So, they will be dropped in the `joint` merge."
   ]
  },
  {
   "cell_type": "code",
   "execution_count": null,
   "id": "54ee1737",
   "metadata": {
    "deletable": false,
    "nbgrader": {
     "cell_type": "code",
     "checksum": "e8facbdda2066086c4e3c6cc6cc59c46",
     "grade": false,
     "grade_id": "cell-633e45e6582f63b8",
     "locked": false,
     "schema_version": 3,
     "solution": true,
     "task": false
    }
   },
   "outputs": [],
   "source": [
    "# YOUR CODE HERE\n",
    "raise NotImplementedError()"
   ]
  },
  {
   "cell_type": "code",
   "execution_count": null,
   "id": "2064c9af",
   "metadata": {
    "deletable": false,
    "editable": false,
    "nbgrader": {
     "cell_type": "code",
     "checksum": "5d3425d94470a3777193a91ff3921071",
     "grade": true,
     "grade_id": "cell-21ad096074fb87b3",
     "locked": true,
     "points": 2.5,
     "schema_version": 3,
     "solution": false,
     "task": false
    }
   },
   "outputs": [],
   "source": [
    "assert(growth_wdi.shape[0]==growth_wdi_regions.shape[0])\n",
    "assert((growth_pwt.shape[0] - 2)==growth_pwt_regions.shape[0])"
   ]
  },
  {
   "cell_type": "markdown",
   "id": "352531bc",
   "metadata": {
    "deletable": false,
    "editable": false,
    "nbgrader": {
     "cell_type": "markdown",
     "checksum": "4c3f443e2a9405714a26b4dc16d2320d",
     "grade": false,
     "grade_id": "cell-792c9587ef64495f",
     "locked": true,
     "schema_version": 3,
     "solution": false,
     "task": false
    }
   },
   "source": [
    "Compute the statistics by region and save them in a new dataframe `statistic_growth_dataset_regions` that has 1 column with the regions and another with the growth rates."
   ]
  },
  {
   "cell_type": "code",
   "execution_count": null,
   "id": "39830954",
   "metadata": {
    "deletable": false,
    "nbgrader": {
     "cell_type": "code",
     "checksum": "271c18704f91afa779b79ac59522241b",
     "grade": false,
     "grade_id": "cell-0bd781c17aa480fa",
     "locked": false,
     "schema_version": 3,
     "solution": true,
     "task": false
    }
   },
   "outputs": [],
   "source": [
    "# YOUR CODE HERE\n",
    "raise NotImplementedError()"
   ]
  },
  {
   "cell_type": "markdown",
   "id": "cc6adc5c",
   "metadata": {
    "deletable": false,
    "editable": false,
    "nbgrader": {
     "cell_type": "markdown",
     "checksum": "b1ea861ce2d81d98228dae0f94bd45c8",
     "grade": false,
     "grade_id": "cell-36e7a5f259048bef",
     "locked": true,
     "schema_version": 3,
     "solution": false,
     "task": false
    }
   },
   "source": [
    "# 5. Counter-factual Analysis\n",
    "\n",
    "Using the PWT, take the maximum growth rate that you computed in question 3 and apply it to the poorest country in the earliest date.  Then take the minimum growth rate that you computed in question 3 and apply it to the richest country in the earliest date.  How would these different growth rates affect the level of income in these countries in the last period?  Explain how this computation demonstrates the importance of the study of long-run growth."
   ]
  },
  {
   "cell_type": "markdown",
   "id": "5da68e2a",
   "metadata": {},
   "source": [
    "Compute counter factual income per capita for the poorest country. Safe value in `poor_counter_factual`."
   ]
  },
  {
   "cell_type": "code",
   "execution_count": null,
   "id": "5f4ba3ef",
   "metadata": {
    "deletable": false,
    "nbgrader": {
     "cell_type": "code",
     "checksum": "e3f832ee0e351c71edd2ae9a3daf1d1a",
     "grade": false,
     "grade_id": "cell-e4034c55f1e16621",
     "locked": false,
     "schema_version": 3,
     "solution": true,
     "task": false
    }
   },
   "outputs": [],
   "source": [
    "# YOUR CODE HERE\n",
    "raise NotImplementedError()"
   ]
  },
  {
   "cell_type": "markdown",
   "id": "6f752b2b",
   "metadata": {
    "deletable": false,
    "editable": false,
    "nbgrader": {
     "cell_type": "markdown",
     "checksum": "22cf33a0d56ec0d3fb19e3fe68a83843",
     "grade": false,
     "grade_id": "cell-f3ebcd481b09a59b",
     "locked": true,
     "schema_version": 3,
     "solution": false,
     "task": false
    }
   },
   "source": [
    "Compute counter factual income per capita for the richest country. Safe value in `rich_counter_factual`."
   ]
  },
  {
   "cell_type": "code",
   "execution_count": null,
   "id": "b1697cce",
   "metadata": {
    "deletable": false,
    "nbgrader": {
     "cell_type": "code",
     "checksum": "befca70bfb312216da83e1f022b32eb3",
     "grade": false,
     "grade_id": "cell-937c935aa8cba799",
     "locked": false,
     "schema_version": 3,
     "solution": true,
     "task": false
    }
   },
   "outputs": [],
   "source": [
    "# YOUR CODE HERE\n",
    "raise NotImplementedError()"
   ]
  },
  {
   "cell_type": "code",
   "execution_count": null,
   "id": "d03bc27b",
   "metadata": {
    "deletable": false,
    "editable": false,
    "nbgrader": {
     "cell_type": "code",
     "checksum": "b6109140412e65ffe88b27cd00b8d6ec",
     "grade": true,
     "grade_id": "cell-55559258d246fec5",
     "locked": true,
     "points": 5,
     "schema_version": 3,
     "solution": false,
     "task": false
    }
   },
   "outputs": [],
   "source": [
    "assert(rich_counter_factual<poor_counter_factual)"
   ]
  },
  {
   "cell_type": "markdown",
   "id": "9e6fb2d1",
   "metadata": {
    "deletable": false,
    "editable": false,
    "nbgrader": {
     "cell_type": "markdown",
     "checksum": "9c418566ca9c396c4d84058d7484a6cc",
     "grade": false,
     "grade_id": "cell-3a7d48ab6f48b3ea",
     "locked": true,
     "schema_version": 3,
     "solution": false,
     "task": false
    }
   },
   "source": [
    "# 6. Who's who in economic growth?\n",
    "\n",
    "Sort the data by the growth rates you computed in number 3.  Identify the 10 fastest growing and the 10 slowest growing countries.  Do the fast growers have anything in common?  Do the slow growers?  Do these lists suggest potential ideas for investigation of the determinants of growth?"
   ]
  },
  {
   "cell_type": "markdown",
   "id": "9a623baa",
   "metadata": {
    "deletable": false,
    "editable": false,
    "nbgrader": {
     "cell_type": "markdown",
     "checksum": "f9326b8ddc6e9def2e65a1eb1b5ee056",
     "grade": false,
     "grade_id": "cell-74fb41eda84bc3b0",
     "locked": true,
     "schema_version": 3,
     "solution": false,
     "task": false
    }
   },
   "source": [
    "Let's sort and show the top 10 slowest growing countries in PWT"
   ]
  },
  {
   "cell_type": "code",
   "execution_count": null,
   "id": "1ccdcae1",
   "metadata": {
    "deletable": false,
    "nbgrader": {
     "cell_type": "code",
     "checksum": "544ebdf3788dcdba5ddfca003eac23cf",
     "grade": false,
     "grade_id": "cell-b98c4ebf00f67a32",
     "locked": false,
     "schema_version": 3,
     "solution": true,
     "task": false
    }
   },
   "outputs": [],
   "source": [
    "# YOUR CODE HERE\n",
    "raise NotImplementedError()"
   ]
  },
  {
   "cell_type": "markdown",
   "id": "e20da32a",
   "metadata": {
    "deletable": false,
    "editable": false,
    "nbgrader": {
     "cell_type": "markdown",
     "checksum": "e4cff92a1bdf0a85a9e007b528b9d10b",
     "grade": false,
     "grade_id": "cell-267e53ac73f91afa",
     "locked": true,
     "schema_version": 3,
     "solution": false,
     "task": false
    }
   },
   "source": [
    "Now in WDI"
   ]
  },
  {
   "cell_type": "code",
   "execution_count": null,
   "id": "0fc2eaf0",
   "metadata": {
    "deletable": false,
    "nbgrader": {
     "cell_type": "code",
     "checksum": "850e6e32a399e6bfd83594a072f28c10",
     "grade": false,
     "grade_id": "cell-6fd548697e9f0ec1",
     "locked": false,
     "schema_version": 3,
     "solution": true,
     "task": false
    }
   },
   "outputs": [],
   "source": [
    "# YOUR CODE HERE\n",
    "raise NotImplementedError()"
   ]
  },
  {
   "cell_type": "markdown",
   "id": "81a51996",
   "metadata": {
    "deletable": false,
    "editable": false,
    "nbgrader": {
     "cell_type": "markdown",
     "checksum": "148dbbfb377fa98d9831f33ca3087dd8",
     "grade": false,
     "grade_id": "cell-6599f3263f33803c",
     "locked": true,
     "schema_version": 3,
     "solution": false,
     "task": false
    }
   },
   "source": [
    "Let's sort and show the top 10 fastest growing countries in PWT"
   ]
  },
  {
   "cell_type": "code",
   "execution_count": null,
   "id": "ba021f8c",
   "metadata": {
    "deletable": false,
    "nbgrader": {
     "cell_type": "code",
     "checksum": "553759a2c9489922e1208d40d629de97",
     "grade": false,
     "grade_id": "cell-7881cdc32535f82e",
     "locked": false,
     "schema_version": 3,
     "solution": true,
     "task": false
    }
   },
   "outputs": [],
   "source": [
    "# YOUR CODE HERE\n",
    "raise NotImplementedError()"
   ]
  },
  {
   "cell_type": "markdown",
   "id": "467a3f86",
   "metadata": {
    "deletable": false,
    "editable": false,
    "nbgrader": {
     "cell_type": "markdown",
     "checksum": "561c9b3c33fb844bdfee11f9da589012",
     "grade": false,
     "grade_id": "cell-0af5587cfdb410d4",
     "locked": true,
     "schema_version": 3,
     "solution": false,
     "task": false
    }
   },
   "source": [
    "Now in WDI"
   ]
  },
  {
   "cell_type": "code",
   "execution_count": null,
   "id": "d2535eca",
   "metadata": {
    "deletable": false,
    "nbgrader": {
     "cell_type": "code",
     "checksum": "33028883d9da1193db7da2509cf27721",
     "grade": false,
     "grade_id": "cell-5413cde488f968b7",
     "locked": false,
     "schema_version": 3,
     "solution": true,
     "task": false
    }
   },
   "outputs": [],
   "source": [
    "# YOUR CODE HERE\n",
    "raise NotImplementedError()"
   ]
  },
  {
   "cell_type": "markdown",
   "id": "05a6faf0",
   "metadata": {
    "deletable": false,
    "editable": false,
    "nbgrader": {
     "cell_type": "markdown",
     "checksum": "875515b20561c4fcdcd5cc8f272555b8",
     "grade": false,
     "grade_id": "cell-df650a526a0f4576",
     "locked": true,
     "schema_version": 3,
     "solution": false,
     "task": false
    }
   },
   "source": [
    "# 7. Convergence\n",
    "\n",
    "Generate a `plotly` scatter plot that shows the income level in the earliest period on the horizontal axis and the growth rate between earliest and latest in the vertical axis. Make sure hovering on a symbols shows the information of the country. Use colors for WB regions and shapes for WB income groups. Export it to file `dataset_convergence_early_late.pdf`. Do you see anything noteworthy?"
   ]
  },
  {
   "cell_type": "markdown",
   "id": "fe547954",
   "metadata": {
    "deletable": false,
    "editable": false,
    "nbgrader": {
     "cell_type": "markdown",
     "checksum": "70f0e79df455a55ce57905f82bd0ef63",
     "grade": false,
     "grade_id": "cell-3bde2920ccf02307",
     "locked": true,
     "schema_version": 3,
     "solution": false,
     "task": false
    }
   },
   "source": [
    "Start by creating a dataframe with only data for the earliest date `dataset_early` and then merge it with the growth rates dataframe `growth_dataset` (make sure to add a suffix to distinguish variables if needed). Drop any NA's to simplify plotting."
   ]
  },
  {
   "cell_type": "markdown",
   "id": "786b71fd",
   "metadata": {
    "deletable": false,
    "editable": false,
    "nbgrader": {
     "cell_type": "markdown",
     "checksum": "830912555a5e8becb5364ff3a375a15b",
     "grade": false,
     "grade_id": "cell-fab6376c5f1a937f",
     "locked": true,
     "schema_version": 3,
     "solution": false,
     "task": false
    }
   },
   "source": [
    "First PWT"
   ]
  },
  {
   "cell_type": "code",
   "execution_count": null,
   "id": "6b4dafdb",
   "metadata": {
    "deletable": false,
    "nbgrader": {
     "cell_type": "code",
     "checksum": "9ad3751d219ad6ba7913df048cf12c46",
     "grade": false,
     "grade_id": "cell-4ea1badb9248e4f2",
     "locked": false,
     "schema_version": 3,
     "solution": true,
     "task": false
    }
   },
   "outputs": [],
   "source": [
    "# YOUR CODE HERE\n",
    "raise NotImplementedError()"
   ]
  },
  {
   "cell_type": "markdown",
   "id": "38ae4126",
   "metadata": {
    "deletable": false,
    "editable": false,
    "nbgrader": {
     "cell_type": "markdown",
     "checksum": "e33af0b0e10e0af5c1c45d1e80ca14a5",
     "grade": false,
     "grade_id": "cell-597b01e3a9338318",
     "locked": true,
     "schema_version": 3,
     "solution": false,
     "task": false
    }
   },
   "source": [
    "Now WDI"
   ]
  },
  {
   "cell_type": "code",
   "execution_count": null,
   "id": "22780b8c",
   "metadata": {},
   "outputs": [],
   "source": [
    "wdi_early = wdi.loc[wdi.year==year_min_wdi].reset_index(drop=True).copy()\n",
    "wdi_early = wdi_early.merge(growth_wdi, on=['country_code', 'country_name'], suffixes=['', '_growth'])\n",
    "wdi_early = wdi_early.merge(wbcountries[['iso3c', 'region', 'incomeLevel']], left_on='country_code', right_on='iso3c')\n",
    "wdi_early = wdi_early.dropna().reset_index(drop=True)\n",
    "wdi_early"
   ]
  },
  {
   "cell_type": "markdown",
   "id": "e8c5266a",
   "metadata": {
    "deletable": false,
    "editable": false,
    "nbgrader": {
     "cell_type": "markdown",
     "checksum": "e690829be84131580518f234f0f96f29",
     "grade": false,
     "grade_id": "cell-114780d0c3984e14",
     "locked": true,
     "schema_version": 3,
     "solution": false,
     "task": false
    }
   },
   "source": [
    "Now let's plot this data for PWT"
   ]
  },
  {
   "cell_type": "code",
   "execution_count": null,
   "id": "af70e995",
   "metadata": {
    "deletable": false,
    "nbgrader": {
     "cell_type": "code",
     "checksum": "17cab4c496579f6708d27a974c187614",
     "grade": false,
     "grade_id": "cell-00b095ab7125e6b5",
     "locked": false,
     "schema_version": 3,
     "solution": true,
     "task": false
    }
   },
   "outputs": [],
   "source": [
    "# YOUR CODE HERE\n",
    "raise NotImplementedError()"
   ]
  },
  {
   "cell_type": "code",
   "execution_count": null,
   "id": "01761c7a",
   "metadata": {
    "deletable": false,
    "editable": false,
    "nbgrader": {
     "cell_type": "code",
     "checksum": "cb3ca2491deecb803bb49bfdec3dfe7a",
     "grade": true,
     "grade_id": "cell-0e6126c984bab237",
     "locked": true,
     "points": 5,
     "schema_version": 3,
     "solution": false,
     "task": false
    }
   },
   "outputs": [],
   "source": [
    "assert(os.path.exists(pathgraphs + 'pwt_convergence_' + str(year_min_pwt) + '_' + str(year_max_pwt) + '.pdf'))"
   ]
  },
  {
   "cell_type": "markdown",
   "id": "9495c224",
   "metadata": {
    "deletable": false,
    "editable": false,
    "nbgrader": {
     "cell_type": "markdown",
     "checksum": "05c07a17610733193f5f3958a432aa9b",
     "grade": false,
     "grade_id": "cell-7d298f1f5fa9f99d",
     "locked": true,
     "schema_version": 3,
     "solution": false,
     "task": false
    }
   },
   "source": [
    "Now for WDI"
   ]
  },
  {
   "cell_type": "code",
   "execution_count": null,
   "id": "a1414616",
   "metadata": {
    "deletable": false,
    "nbgrader": {
     "cell_type": "code",
     "checksum": "76a0b6f3f2f2ab90d7d2b1a8814d9e1e",
     "grade": false,
     "grade_id": "cell-c91a2028c33611e6",
     "locked": false,
     "schema_version": 3,
     "solution": true,
     "task": false
    }
   },
   "outputs": [],
   "source": [
    "# YOUR CODE HERE\n",
    "raise NotImplementedError()"
   ]
  },
  {
   "cell_type": "code",
   "execution_count": null,
   "id": "71f08ba3",
   "metadata": {
    "deletable": false,
    "editable": false,
    "nbgrader": {
     "cell_type": "code",
     "checksum": "ad2553238be01da72bdaf284b2715190",
     "grade": true,
     "grade_id": "cell-cbf1b575e9cddb9d",
     "locked": true,
     "points": 5,
     "schema_version": 3,
     "solution": false,
     "task": false
    }
   },
   "outputs": [],
   "source": [
    "assert(os.path.exists(pathgraphs + 'wdi_convergence_' + str(year_min_wdi) + '_' + str(year_max_wdi) + '.pdf'))"
   ]
  },
  {
   "cell_type": "markdown",
   "id": "13e2c7b2",
   "metadata": {
    "deletable": false,
    "editable": false,
    "nbgrader": {
     "cell_type": "markdown",
     "checksum": "eea62690c505e949d6e6586fc4b5cfb4",
     "grade": false,
     "grade_id": "cell-dfacb8bf6d545771",
     "locked": true,
     "schema_version": 3,
     "solution": false,
     "task": false
    }
   },
   "source": [
    "# 8. Persistence\n",
    "\n",
    "Generate a `plotly` scatter plot that shows the income level in the earliest period on the horizontal axis and the income level in the latest in the vertical axis. Make sure hovering on a symbols shows the information of the country. Use colors for WB regions and shapes for WB income groups. Export it to file `dataset_persistence_early_late.pdf`. Do you see anything noteworthy?"
   ]
  },
  {
   "cell_type": "markdown",
   "id": "8c9f91d2",
   "metadata": {
    "deletable": false,
    "editable": false,
    "nbgrader": {
     "cell_type": "markdown",
     "checksum": "19b8bd014c6cb8b40d8ba9306b65b1ee",
     "grade": false,
     "grade_id": "cell-d363a7ed7f8a5d4a",
     "locked": true,
     "schema_version": 3,
     "solution": false,
     "task": false
    }
   },
   "source": [
    "Start by creating a dataframe with only data for the latest date `dataset_late` and then merge it with the `dataset_early` dataframe you cerated in teh previous point (make sure to add a suffix to distinguish variables if needed). Drop any NA's to simplify plotting."
   ]
  },
  {
   "cell_type": "markdown",
   "id": "cb22c270",
   "metadata": {
    "deletable": false,
    "editable": false,
    "nbgrader": {
     "cell_type": "markdown",
     "checksum": "24f37f38cec5d35c90c6a8cdd2c8caac",
     "grade": false,
     "grade_id": "cell-f3a13c2b3937916d",
     "locked": true,
     "schema_version": 3,
     "solution": false,
     "task": false
    }
   },
   "source": [
    "Start with PWT"
   ]
  },
  {
   "cell_type": "code",
   "execution_count": null,
   "id": "335127f4",
   "metadata": {
    "deletable": false,
    "nbgrader": {
     "cell_type": "code",
     "checksum": "930ca2baaa6aeba35abd2eed15295d5b",
     "grade": false,
     "grade_id": "cell-187179cae74cdcbd",
     "locked": false,
     "schema_version": 3,
     "solution": true,
     "task": false
    }
   },
   "outputs": [],
   "source": [
    "# YOUR CODE HERE\n",
    "raise NotImplementedError()"
   ]
  },
  {
   "cell_type": "markdown",
   "id": "c69507eb",
   "metadata": {
    "deletable": false,
    "editable": false,
    "nbgrader": {
     "cell_type": "markdown",
     "checksum": "a95b19bd82f6563e2f6cc7bc56086f3d",
     "grade": false,
     "grade_id": "cell-389f3daa692e5e6e",
     "locked": true,
     "schema_version": 3,
     "solution": false,
     "task": false
    }
   },
   "source": [
    "Now WDI"
   ]
  },
  {
   "cell_type": "code",
   "execution_count": null,
   "id": "ec0ff5f0",
   "metadata": {
    "deletable": false,
    "nbgrader": {
     "cell_type": "code",
     "checksum": "e7b7c00c79a92f3483118477bce05677",
     "grade": false,
     "grade_id": "cell-f88aac24a08de9b4",
     "locked": false,
     "schema_version": 3,
     "solution": true,
     "task": false
    }
   },
   "outputs": [],
   "source": [
    "# YOUR CODE HERE\n",
    "raise NotImplementedError()"
   ]
  },
  {
   "cell_type": "markdown",
   "id": "22257be7",
   "metadata": {
    "deletable": false,
    "editable": false,
    "nbgrader": {
     "cell_type": "markdown",
     "checksum": "be1fdb1e8f76b6d06d199e7910151505",
     "grade": false,
     "grade_id": "cell-77201163f5023cec",
     "locked": true,
     "schema_version": 3,
     "solution": false,
     "task": false
    }
   },
   "source": [
    "Now let's plot this data for PWT"
   ]
  },
  {
   "cell_type": "code",
   "execution_count": null,
   "id": "e0194b4d",
   "metadata": {
    "deletable": false,
    "nbgrader": {
     "cell_type": "code",
     "checksum": "067b4f1768393dad9c85a021a482a2e7",
     "grade": false,
     "grade_id": "cell-90b1bf6efdd50558",
     "locked": false,
     "schema_version": 3,
     "solution": true,
     "task": false
    }
   },
   "outputs": [],
   "source": [
    "# YOUR CODE HERE\n",
    "raise NotImplementedError()"
   ]
  },
  {
   "cell_type": "code",
   "execution_count": null,
   "id": "adaff429",
   "metadata": {
    "deletable": false,
    "editable": false,
    "nbgrader": {
     "cell_type": "code",
     "checksum": "74896dc0910f223faf78c3f9f9ba4e58",
     "grade": true,
     "grade_id": "cell-3434c9dc87ec5a10",
     "locked": true,
     "points": 5,
     "schema_version": 3,
     "solution": false,
     "task": false
    }
   },
   "outputs": [],
   "source": [
    "assert(os.path.exists(pathgraphs + 'pwt_persistence_' + str(year_min_pwt) + '_' + str(year_max_pwt) + '.pdf'))"
   ]
  },
  {
   "cell_type": "markdown",
   "id": "6a56b2bd",
   "metadata": {
    "deletable": false,
    "editable": false,
    "nbgrader": {
     "cell_type": "markdown",
     "checksum": "5c9d812fa7350d196cd5e4c17eac1424",
     "grade": false,
     "grade_id": "cell-c2c35a35a5d999f7",
     "locked": true,
     "schema_version": 3,
     "solution": false,
     "task": false
    }
   },
   "source": [
    "Now WDI"
   ]
  },
  {
   "cell_type": "code",
   "execution_count": null,
   "id": "8d85e5ab",
   "metadata": {
    "deletable": false,
    "nbgrader": {
     "cell_type": "code",
     "checksum": "fbfe49553b8c67ce18788b8272324bba",
     "grade": false,
     "grade_id": "cell-0f954ffbfb90b55a",
     "locked": false,
     "schema_version": 3,
     "solution": true,
     "task": false
    }
   },
   "outputs": [],
   "source": [
    "# YOUR CODE HERE\n",
    "raise NotImplementedError()"
   ]
  },
  {
   "cell_type": "code",
   "execution_count": null,
   "id": "50cfd90a",
   "metadata": {
    "deletable": false,
    "editable": false,
    "nbgrader": {
     "cell_type": "code",
     "checksum": "a1a97259451019a36a210da9766215f4",
     "grade": true,
     "grade_id": "cell-7ffcfe5a3ccd96ef",
     "locked": true,
     "points": 5,
     "schema_version": 3,
     "solution": false,
     "task": false
    }
   },
   "outputs": [],
   "source": [
    "assert(os.path.exists(pathgraphs + 'wdi_persistence_' + str(year_min_pwt) + '_' + str(year_max_pwt) + '.pdf'))"
   ]
  }
 ],
 "metadata": {
  "kernelspec": {
   "display_name": "Python 3 (ipykernel)",
   "language": "python",
   "name": "python3"
  },
  "language_info": {
   "codemirror_mode": {
    "name": "ipython",
    "version": 3
   },
   "file_extension": ".py",
   "mimetype": "text/x-python",
   "name": "python",
   "nbconvert_exporter": "python",
   "pygments_lexer": "ipython3",
   "version": "3.9.13"
  },
  "nbTranslate": {
   "displayLangs": [
    "*"
   ],
   "hotkey": "alt-t",
   "langInMainMenu": true,
   "sourceLang": "en",
   "targetLang": "fr",
   "useGoogleTranslate": true
  }
 },
 "nbformat": 4,
 "nbformat_minor": 5
}
